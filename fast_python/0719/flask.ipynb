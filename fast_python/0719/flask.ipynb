{
 "cells": [
  {
   "cell_type": "code",
   "execution_count": 4,
   "metadata": {},
   "outputs": [
    {
     "name": "stdout",
     "output_type": "stream",
     "text": [
      " * Serving Flask app '__main__'\n",
      " * Debug mode: off\n"
     ]
    },
    {
     "name": "stderr",
     "output_type": "stream",
     "text": [
      "\u001b[31m\u001b[1mWARNING: This is a development server. Do not use it in a production deployment. Use a production WSGI server instead.\u001b[0m\n",
      " * Running on all addresses (0.0.0.0)\n",
      " * Running on http://127.0.0.1:5555\n",
      " * Running on http://192.168.0.2:5555\n",
      "\u001b[33mPress CTRL+C to quit\u001b[0m\n",
      "127.0.0.1 - - [19/Jul/2024 17:25:41] \"POST /test_img HTTP/1.1\" 200 -\n"
     ]
    },
    {
     "name": "stdout",
     "output_type": "stream",
     "text": [
      "ㄴ\n"
     ]
    },
    {
     "name": "stderr",
     "output_type": "stream",
     "text": [
      "127.0.0.1 - - [19/Jul/2024 17:31:14] \"POST /test_img HTTP/1.1\" 200 -\n"
     ]
    },
    {
     "name": "stdout",
     "output_type": "stream",
     "text": [
      "ㅁ\n"
     ]
    },
    {
     "name": "stderr",
     "output_type": "stream",
     "text": [
      "127.0.0.1 - - [19/Jul/2024 17:31:24] \"POST /test_img HTTP/1.1\" 200 -\n"
     ]
    },
    {
     "name": "stdout",
     "output_type": "stream",
     "text": [
      "ㅁ\n"
     ]
    }
   ],
   "source": [
    "from flask import Flask, request, render_template, make_response, jsonify\n",
    "from flask_cors import CORS\n",
    "import numpy as np\n",
    "import cv2\n",
    "import base64\n",
    "\n",
    "app = Flask(__name__)\n",
    "CORS(app)  # This will enable CORS for all routes\n",
    "\n",
    "@app.route('/test_img', methods=['POST'])\n",
    "def rest_img_test():\n",
    "    param = request.form.get('data')\n",
    "    print(param)\n",
    "    f = request.files['file']\n",
    "    filestr = f.read()\n",
    "    npimg = np.frombuffer(filestr, np.uint8)  # FileStorage의 이미지를 넘파이 배열로 만듦\n",
    "    img = cv2.imdecode(npimg, cv2.IMREAD_COLOR)  # 넘파일 배열을 이미지 배열로 변환함\n",
    "    img = cv2.cvtColor(img, cv2.COLOR_BGR2GRAY)  # 여기에서 처리를 하면 됨\n",
    "    \n",
    "    # 이미지를 파일로 저장하지 않고 바로 base64 인코딩\n",
    "    _, buffer = cv2.imencode('.jpg', img)\n",
    "    img_str = base64.b64encode(buffer).decode()\n",
    "\n",
    "    data = {\"param\": param, \"file\": img_str}\n",
    "    response = make_response(jsonify(data))\n",
    "    response.headers.add(\"Access-Control-Allow-Origin\", \"*\")\n",
    "    return response4ㅕ\n",
    "\n",
    "if __name__ == \"__main__\":\n",
    "    app.run(host='0.0.0.0', port=5555)"
   ]
  },
  {
   "cell_type": "code",
   "execution_count": 1,
   "metadata": {},
   "outputs": [
    {
     "name": "stdout",
     "output_type": "stream",
     "text": [
      "Defaulting to user installation because normal site-packages is not writeable\n",
      "Requirement already satisfied: Flask in /Users/yijun/Library/Python/3.9/lib/python/site-packages (3.0.3)\n",
      "Requirement already satisfied: numpy in /Library/Python/3.9/site-packages (1.24.2)\n",
      "Requirement already satisfied: opencv-python in /Users/yijun/Library/Python/3.9/lib/python/site-packages (4.7.0.68)\n",
      "Requirement already satisfied: Jinja2>=3.1.2 in /Users/yijun/Library/Python/3.9/lib/python/site-packages (from Flask) (3.1.4)\n",
      "Requirement already satisfied: importlib-metadata>=3.6.0 in /Users/yijun/Library/Python/3.9/lib/python/site-packages (from Flask) (8.0.0)\n",
      "Requirement already satisfied: blinker>=1.6.2 in /Users/yijun/Library/Python/3.9/lib/python/site-packages (from Flask) (1.8.2)\n",
      "Requirement already satisfied: itsdangerous>=2.1.2 in /Users/yijun/Library/Python/3.9/lib/python/site-packages (from Flask) (2.2.0)\n",
      "Requirement already satisfied: Werkzeug>=3.0.0 in /Users/yijun/Library/Python/3.9/lib/python/site-packages (from Flask) (3.0.3)\n",
      "Requirement already satisfied: click>=8.1.3 in /Users/yijun/Library/Python/3.9/lib/python/site-packages (from Flask) (8.1.7)\n",
      "Requirement already satisfied: zipp>=0.5 in /Users/yijun/Library/Python/3.9/lib/python/site-packages (from importlib-metadata>=3.6.0->Flask) (3.19.2)\n",
      "Requirement already satisfied: MarkupSafe>=2.0 in /Users/yijun/Library/Python/3.9/lib/python/site-packages (from Jinja2>=3.1.2->Flask) (2.1.5)\n",
      "\n",
      "\u001b[1m[\u001b[0m\u001b[34;49mnotice\u001b[0m\u001b[1;39;49m]\u001b[0m\u001b[39;49m A new release of pip is available: \u001b[0m\u001b[31;49m23.0\u001b[0m\u001b[39;49m -> \u001b[0m\u001b[32;49m24.1.2\u001b[0m\n",
      "\u001b[1m[\u001b[0m\u001b[34;49mnotice\u001b[0m\u001b[1;39;49m]\u001b[0m\u001b[39;49m To update, run: \u001b[0m\u001b[32;49m/Library/Developer/CommandLineTools/usr/bin/python3 -m pip install --upgrade pip\u001b[0m\n",
      "Note: you may need to restart the kernel to use updated packages.\n"
     ]
    }
   ],
   "source": [
    "pip install Flask numpy opencv-python"
   ]
  },
  {
   "cell_type": "code",
   "execution_count": null,
   "metadata": {},
   "outputs": [],
   "source": []
  }
 ],
 "metadata": {
  "kernelspec": {
   "display_name": "Python 3",
   "language": "python",
   "name": "python3"
  },
  "language_info": {
   "codemirror_mode": {
    "name": "ipython",
    "version": 3
   },
   "file_extension": ".py",
   "mimetype": "text/x-python",
   "name": "python",
   "nbconvert_exporter": "python",
   "pygments_lexer": "ipython3",
   "version": "3.9.6"
  }
 },
 "nbformat": 4,
 "nbformat_minor": 2
}
