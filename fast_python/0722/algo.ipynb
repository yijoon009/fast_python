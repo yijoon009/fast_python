{
 "cells": [
  {
   "cell_type": "code",
   "execution_count": 5,
   "metadata": {},
   "outputs": [],
   "source": [
    "def swap_with_temp(a, b):\n",
    "    print(f'before swap: a = {a}, b = {b}')\n",
    "    # temp = a\n",
    "    # a = b\n",
    "    # b = temp\n",
    "    a,b = b,a\n",
    "    print(f'after swap: a = {a}, b = {b}')\n",
    "    return a, b"
   ]
  },
  {
   "cell_type": "code",
   "execution_count": 6,
   "metadata": {},
   "outputs": [
    {
     "name": "stdout",
     "output_type": "stream",
     "text": [
      "before swap: a = 1, b = 5\n",
      "after swap: a = 5, b = 1\n"
     ]
    },
    {
     "data": {
      "text/plain": [
       "(5, 1)"
      ]
     },
     "execution_count": 6,
     "metadata": {},
     "output_type": "execute_result"
    }
   ],
   "source": [
    "swap_with_temp(1, 5)"
   ]
  },
  {
   "cell_type": "code",
   "execution_count": 7,
   "metadata": {},
   "outputs": [],
   "source": [
    "def accumulate_sum(n) :\n",
    "    total = 0\n",
    "    for i in range(0, n+1):\n",
    "        total += i\n",
    "    return total"
   ]
  },
  {
   "cell_type": "code",
   "execution_count": 10,
   "metadata": {},
   "outputs": [
    {
     "data": {
      "text/plain": [
       "154290"
      ]
     },
     "execution_count": 10,
     "metadata": {},
     "output_type": "execute_result"
    }
   ],
   "source": [
    "accumulate_sum(555)"
   ]
  },
  {
   "cell_type": "code",
   "execution_count": 18,
   "metadata": {},
   "outputs": [],
   "source": [
    "def sum_even_odd(n):\n",
    "    sum_even = 0\n",
    "    sum_odd = 0\n",
    "    for i in range(1, n+1):\n",
    "        if i%2 == 0:\n",
    "            sum_even += i\n",
    "        else:\n",
    "            sum_odd += i\n",
    "    return sum_even, sum_odd"
   ]
  },
  {
   "cell_type": "code",
   "execution_count": 19,
   "metadata": {},
   "outputs": [
    {
     "name": "stdout",
     "output_type": "stream",
     "text": [
      "sum of even numbers from 1 to 100 : 2550\n",
      "sum of odd numbers from 1 to 100: 2500\n"
     ]
    }
   ],
   "source": [
    "n = 100\n",
    "even_num, even_odd = sum_even_odd(n)\n",
    "print(f'sum of even numbers from 1 to {n} : {even_num}')\n",
    "print(f'sum of odd numbers from 1 to {n}: {even_odd}')"
   ]
  },
  {
   "cell_type": "code",
   "execution_count": 24,
   "metadata": {},
   "outputs": [],
   "source": [
    "def count_even_odd(n):\n",
    "    count_even = 0\n",
    "    count_odd = 0\n",
    "    for i in range(1, n+1):\n",
    "        if i%2 == 0:\n",
    "            count_even += 1\n",
    "        else:\n",
    "            count_odd += 1\n",
    "    return count_even, count_odd"
   ]
  },
  {
   "cell_type": "code",
   "execution_count": 29,
   "metadata": {},
   "outputs": [
    {
     "name": "stdout",
     "output_type": "stream",
     "text": [
      "Number of even numbers from 1 to 333: 166\n",
      "Number of odd numbers from 1 to 333: 167\n"
     ]
    }
   ],
   "source": [
    "n = 333\n",
    "count_even, count_odd = count_even_odd(n)\n",
    "print(f\"Number of even numbers from 1 to {n}: {count_even}\")\n",
    "print(f\"Number of odd numbers from 1 to {n}: {count_odd}\")"
   ]
  },
  {
   "cell_type": "code",
   "execution_count": 36,
   "metadata": {},
   "outputs": [],
   "source": [
    "def count_frequencies(narr):\n",
    "    frequency_dict = {}\n",
    "\n",
    "    for n in narr:\n",
    "        if n in frequency_dict:\n",
    "            frequency_dict[n] += 1\n",
    "        else:\n",
    "            frequency_dict[n] = 1\n",
    "    return frequency_dict\n",
    "\n",
    "def print_frequencies_with_stars(frequency_dict):\n",
    "    for number, count in frequency_dict.items():\n",
    "        stars = '*' * count\n",
    "        print(f'{number}의 개수: {count}개 {stars}')"
   ]
  },
  {
   "cell_type": "code",
   "execution_count": 37,
   "metadata": {},
   "outputs": [
    {
     "name": "stdout",
     "output_type": "stream",
     "text": [
      "1의 개수: 5개 *****\n",
      "2의 개수: 3개 ***\n",
      "4의 개수: 1개 *\n",
      "122의 개수: 1개 *\n"
     ]
    }
   ],
   "source": [
    "narr = [1,2,4,2,2,1,122,1,1,1]\n",
    "\n",
    "frequency_dict = count_frequencies(narr)\n",
    "print_frequencies_with_stars(frequency_dict)"
   ]
  },
  {
   "cell_type": "code",
   "execution_count": 38,
   "metadata": {},
   "outputs": [
    {
     "name": "stdout",
     "output_type": "stream",
     "text": [
      "Sorted list: [11, 12, 22, 25, 64]\n"
     ]
    }
   ],
   "source": [
    "def selection_sort(numbers):\n",
    "    n = len(numbers)\n",
    "    for i in range(n - 1):\n",
    "        for j in range(i + 1, n):\n",
    "            if numbers[i] > numbers[j]:\n",
    "                # temp 변수를 사용한 swap\n",
    "                temp = numbers[i]\n",
    "                numbers[i] = numbers[j]\n",
    "                numbers[j] = temp\n",
    "\n",
    "    return numbers\n",
    "# 예제 실행\n",
    "numbers = [64, 25, 12, 22, 11]\n",
    "print(f\"Sorted list: {selection_sort(numbers)}\")"
   ]
  },
  {
   "cell_type": "code",
   "execution_count": null,
   "metadata": {},
   "outputs": [],
   "source": []
  }
 ],
 "metadata": {
  "kernelspec": {
   "display_name": "Python 3",
   "language": "python",
   "name": "python3"
  },
  "language_info": {
   "codemirror_mode": {
    "name": "ipython",
    "version": 3
   },
   "file_extension": ".py",
   "mimetype": "text/x-python",
   "name": "python",
   "nbconvert_exporter": "python",
   "pygments_lexer": "ipython3",
   "version": "3.9.6"
  }
 },
 "nbformat": 4,
 "nbformat_minor": 2
}
