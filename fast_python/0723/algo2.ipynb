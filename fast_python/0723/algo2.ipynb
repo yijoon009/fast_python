{
 "cells": [
  {
   "cell_type": "code",
   "execution_count": 6,
   "metadata": {},
   "outputs": [
    {
     "name": "stdout",
     "output_type": "stream",
     "text": [
      "PASS\n"
     ]
    }
   ],
   "source": [
    "# 터널 통과\n",
    "def is_high_enough(n):\n",
    "    if(n >= 170):\n",
    "        return True\n",
    "    else:\n",
    "        return False\n",
    "\n",
    "tunnel_heights = list(map(int, input().split()))\n",
    "\n",
    "all_high_enough = True\n",
    "\n",
    "for height in tunnel_heights:\n",
    "    if not is_high_enough(height):\n",
    "        all_high_enough = False\n",
    "        break\n",
    "\n",
    "if all_high_enough:\n",
    "    print(\"PASS\")\n",
    "else:\n",
    "    print(\"CRASH\")"
   ]
  },
  {
   "cell_type": "code",
   "execution_count": 13,
   "metadata": {},
   "outputs": [
    {
     "name": "stdout",
     "output_type": "stream",
     "text": [
      "enjoy\n"
     ]
    }
   ],
   "source": [
    "# 아르바이트\n",
    "free = [2,4,6,7]\n",
    "work = [1,3,5]\n",
    "day = int(input('work? free?'))\n",
    "if day in free:\n",
    "    print('enjoy')\n",
    "elif day in work:\n",
    "    print('oh my god')\n",
    "else:\n",
    "    print('none exist data')"
   ]
  },
  {
   "cell_type": "code",
   "execution_count": 16,
   "metadata": {},
   "outputs": [
    {
     "name": "stdout",
     "output_type": "stream",
     "text": [
      "23 50\n"
     ]
    }
   ],
   "source": [
    "# 30분 전\n",
    "time = list(map(int, input().split()))\n",
    "\n",
    "hour = time[0]\n",
    "min = time[1]\n",
    "\n",
    "if min - 30 < 0:\n",
    "    hour -= 1\n",
    "    min += 30\n",
    "else:\n",
    "    min -= 30\n",
    "\n",
    "if hour < 0:\n",
    "    hour = 23\n",
    "\n",
    "print(f'{hour} {min}')\n",
    "\n"
   ]
  },
  {
   "cell_type": "code",
   "execution_count": 18,
   "metadata": {},
   "outputs": [
    {
     "name": "stdout",
     "output_type": "stream",
     "text": [
      "not prime\n"
     ]
    }
   ],
   "source": [
    "# 소수 판별\n",
    "\n",
    "def is_prime(n):\n",
    "    if n <= 1:\n",
    "        return False\n",
    "    if n<=3:\n",
    "        return True\n",
    "    for i in range(3, n):\n",
    "        if n%i == 0:\n",
    "            return False\n",
    "    return True\n",
    "\n",
    "number = int(input(\"Enter a number: \"))\n",
    "\n",
    "if is_prime(number):\n",
    "    print(\"prime\")\n",
    "else:\n",
    "    print(\"not prime\")"
   ]
  },
  {
   "cell_type": "code",
   "execution_count": 19,
   "metadata": {},
   "outputs": [
    {
     "name": "stdout",
     "output_type": "stream",
     "text": [
      "prime\n"
     ]
    }
   ],
   "source": [
    "import math\n",
    "\n",
    "def is_prime2(n):\n",
    "    if n <= 1:\n",
    "        return False  # 1 이하의 수는 소수가 아닙니다.\n",
    "    for d in range(2, int(math.sqrt(n)) + 1):\n",
    "        if n % d == 0:\n",
    "            return False  # n이 d로 나누어지면 소수가 아닙니다.\n",
    "    return True  # n이 어떤 수로도 나누어지지 않으면 소수입니다.\n",
    "\n",
    "number = int(input(\"Enter a number: \"))\n",
    "\n",
    "if is_prime(number):\n",
    "    print(\"prime\")\n",
    "else:\n",
    "    print(\"not prime\")"
   ]
  },
  {
   "cell_type": "code",
   "execution_count": 30,
   "metadata": {},
   "outputs": [
    {
     "name": "stdout",
     "output_type": "stream",
     "text": [
      "input: 11\n",
      "5 6\n",
      "6 5\n"
     ]
    }
   ],
   "source": [
    "# 주사위 합\n",
    "\n",
    "num = int(input())\n",
    "print(f'input: {num}')\n",
    "for i in range(1, 7):\n",
    "    for j in range(1, 7):\n",
    "        if i + j == num:\n",
    "            print(f'{i} {j}')\n",
    "    "
   ]
  },
  {
   "cell_type": "code",
   "execution_count": 39,
   "metadata": {},
   "outputs": [
    {
     "name": "stdout",
     "output_type": "stream",
     "text": [
      "강철 선생님이 갖고있는 쿠폰 갯수: 10\n",
      "쿠폰 3당 아메리카노 한 잔 교환\n",
      "강철 선생님은 총 4잔을 무료로 먹을 수 있다.\n"
     ]
    }
   ],
   "source": [
    "def max_americano(chul, coupon):\n",
    "    total_cups = 0\n",
    "\n",
    "    while chul >= coupon:\n",
    "        new_cups = chul // coupon\n",
    "        total_cups += new_cups\n",
    "        chul = chul % coupon + new_cups  # 남은 쿠폰 + 새로 받은 쿠폰\n",
    "\n",
    "    return total_cups\n",
    "\n",
    "chul = int(input(\"강철 선생님이 갖고있는 쿠폰 갯수: \"))\n",
    "coupon = int(input(\"쿠폰 갯수 (아메리카노 한 잔 당 교환): \"))\n",
    "\n",
    "max_cups = max_americano(chul, coupon)\n",
    "\n",
    "print(f'강철 선생님이 갖고있는 쿠폰 갯수: {chul}')\n",
    "print(f'쿠폰 {coupon}당 아메리카노 한 잔 교환')\n",
    "\n",
    "print(f'강철 선생님은 총 {max_cups}잔을 무료로 먹을 수 있다.')"
   ]
  },
  {
   "cell_type": "code",
   "execution_count": 41,
   "metadata": {},
   "outputs": [
    {
     "name": "stdout",
     "output_type": "stream",
     "text": [
      "[[0, 0, 0, 0, 0, 0, 0, 0, 0, 0, 0, 0, 0, 0, 0, 0, 0, 0, 0, 0], [0, 0, 0, 0, 0, 0, 0, 0, 0, 0, 0, 0, 0, 0, 0, 0, 0, 0, 0, 0], [0, 0, 0, 0, 0, 0, 0, 0, 0, 0, 0, 0, 0, 0, 0, 0, 0, 0, 0, 0], [0, 0, 0, 0, 0, 0, 0, 0, 0, 0, 0, 0, 0, 0, 0, 0, 0, 0, 0, 0], [0, 0, 0, 0, 0, 0, 0, 0, 0, 0, 0, 0, 0, 0, 0, 0, 0, 0, 0, 0], [0, 0, 0, 0, 0, 0, 0, 0, 0, 0, 0, 0, 0, 0, 0, 0, 0, 0, 0, 0], [0, 0, 0, 0, 0, 0, 0, 0, 0, 0, 0, 0, 0, 0, 0, 0, 0, 0, 0, 0], [0, 0, 0, 0, 0, 0, 0, 0, 0, 0, 0, 0, 0, 0, 0, 0, 0, 0, 0, 0], [0, 0, 0, 0, 0, 0, 0, 0, 0, 0, 0, 0, 0, 0, 0, 0, 0, 0, 0, 0], [0, 0, 0, 0, 0, 0, 0, 0, 0, 0, 0, 0, 0, 0, 0, 0, 0, 0, 0, 0], [0, 0, 0, 0, 0, 0, 0, 0, 0, 0, 0, 0, 0, 0, 0, 0, 0, 0, 0, 0], [0, 0, 0, 0, 0, 0, 0, 0, 0, 0, 0, 0, 0, 0, 0, 0, 0, 0, 0, 0], [0, 0, 0, 0, 0, 0, 0, 0, 0, 0, 0, 0, 0, 0, 0, 0, 0, 0, 0, 0], [0, 0, 0, 0, 0, 0, 0, 0, 0, 0, 0, 0, 0, 0, 0, 0, 0, 0, 0, 0], [0, 0, 0, 0, 0, 0, 0, 0, 0, 0, 0, 0, 0, 0, 0, 0, 0, 0, 0, 0], [0, 0, 0, 0, 0, 0, 0, 0, 0, 0, 0, 0, 0, 0, 0, 0, 0, 0, 0, 0], [0, 0, 0, 0, 0, 0, 0, 0, 0, 0, 0, 0, 0, 0, 0, 0, 0, 0, 0, 0], [0, 0, 0, 0, 0, 0, 0, 0, 0, 0, 0, 0, 0, 0, 0, 0, 0, 0, 0, 0], [0, 0, 0, 0, 0, 0, 0, 0, 0, 0, 0, 0, 0, 0, 0, 0, 0, 0, 0, 0], [0, 0, 0, 0, 0, 0, 0, 0, 0, 0, 0, 0, 0, 0, 0, 0, 0, 0, 0, 0]]\n"
     ]
    }
   ],
   "source": [
    "# iq 테스트\n",
    "\n",
    "\n",
    "arr=[[0 for col in range(20)] \n",
    "            for row in range(20)]\n",
    "\n",
    "n = int(input())\n",
    "\n",
    "for i in range(n):\n",
    "   arr[i][0]=int(input())\n",
    "\n",
    "for i in range(1,n):\n",
    "   for j in range(0,i):\n",
    "       arr[i][j+1]=arr[i][j]-arr[i-1][j]\n",
    "\n",
    "for i in range(0,n):\n",
    "   for j in range(0,i+1):\n",
    "       print(arr[i][j],end=' ')\n",
    "   print('')"
   ]
  },
  {
   "cell_type": "code",
   "execution_count": 46,
   "metadata": {},
   "outputs": [
    {
     "name": "stdout",
     "output_type": "stream",
     "text": [
      "[[1], [2, 0], [22, 0, 0], [4, 0, 0, 0]]\n"
     ]
    }
   ],
   "source": [
    "# iq 2\n",
    "import pprint\n",
    "\n",
    "def fill_tri(n, first_col):\n",
    "    triangle = [[0] * (i+1) for i in range(n)]\n",
    "    for i in range(n):\n",
    "        triangle[i][0] = first_col[i]\n",
    "    \n",
    "    for i in range(1, n):\n",
    "        for j in range(1, i+1):\n",
    "            triangle[i][j] = triangle[i-1][j-1] + triangle[i-1][j]\n",
    "\n",
    "fill_tri(4, [1,2,22,4])\n",
    "\n"
   ]
  },
  {
   "cell_type": "code",
   "execution_count": null,
   "metadata": {},
   "outputs": [],
   "source": []
  }
 ],
 "metadata": {
  "kernelspec": {
   "display_name": "Python 3",
   "language": "python",
   "name": "python3"
  },
  "language_info": {
   "codemirror_mode": {
    "name": "ipython",
    "version": 3
   },
   "file_extension": ".py",
   "mimetype": "text/x-python",
   "name": "python",
   "nbconvert_exporter": "python",
   "pygments_lexer": "ipython3",
   "version": "3.9.6"
  }
 },
 "nbformat": 4,
 "nbformat_minor": 2
}
