{
 "cells": [
  {
   "cell_type": "code",
   "execution_count": 26,
   "metadata": {},
   "outputs": [
    {
     "name": "stdout",
     "output_type": "stream",
     "text": [
      "입력 데이터 11개: ['1', '0', '9', '8', '7', '6', '55', '4', '3', '2', '12']\n",
      "데이터 11개를 오름차순한 결과 [0, 1, 2, 3, 4, 6, 7, 8, 9, 12, 55]\n",
      "11번째 데이터가 배열에 있으면 해당 위치 출력 9\n"
     ]
    }
   ],
   "source": [
    "nums = input().split(',')\n",
    "nums_int = [int(num) for num in nums]\n",
    "\n",
    "sorted_num = sorted(nums_int)\n",
    "\n",
    "\n",
    "target = nums_int[-1]\n",
    "target_index = 0\n",
    "\n",
    "for i in range(len(nums_int)):\n",
    "    if sorted_num[i] == target:\n",
    "        target_index = i\n",
    "        break\n",
    "\n",
    "print(f'입력 데이터 11개: {nums}')\n",
    "print(f'데이터 11개를 오름차순한 결과 {sorted_num}')\n",
    "print(f'11번째 데이터가 배열에 있으면 해당 위치 출력 {target_index}')\n"
   ]
  },
  {
   "cell_type": "code",
   "execution_count": 31,
   "metadata": {},
   "outputs": [
    {
     "name": "stdout",
     "output_type": "stream",
     "text": [
      "CRASH\n"
     ]
    }
   ],
   "source": []
  },
  {
   "cell_type": "markdown",
   "metadata": {},
   "source": []
  },
  {
   "cell_type": "markdown",
   "metadata": {},
   "source": []
  }
 ],
 "metadata": {
  "kernelspec": {
   "display_name": "Python 3",
   "language": "python",
   "name": "python3"
  },
  "language_info": {
   "codemirror_mode": {
    "name": "ipython",
    "version": 3
   },
   "file_extension": ".py",
   "mimetype": "text/x-python",
   "name": "python",
   "nbconvert_exporter": "python",
   "pygments_lexer": "ipython3",
   "version": "3.9.6"
  }
 },
 "nbformat": 4,
 "nbformat_minor": 2
}
