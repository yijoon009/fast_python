{
  "cells": [
    {
      "cell_type": "markdown",
      "metadata": {
        "id": "1GAR9T9Qc8w3"
      },
      "source": [
        "### 문제 1. 주어진 리스트의 중앙값을 찾아서 return하는 함수를 작성해보세요.\n",
        "\n",
        "- 단, 원본 데이터가 변경되면 안됩니다.\n"
      ]
    },
    {
      "cell_type": "code",
      "execution_count": null,
      "metadata": {
        "id": "iYbvxSYmcgCB"
      },
      "outputs": [],
      "source": [
        "def find_median(L :list[int|float]) -> int|float:\n",
        "    '''\n",
        "    L : median을 찾을 숫자들이 들어있는 리스트.\n",
        "    return : median은 L에서 찾은 중앙값.\n",
        "    '''\n",
        "    L = sorted(L)\n",
        "    # L = L.copy()  # deepcopy\n",
        "    # L.sort()\n",
        "\n",
        "    if len(L) % 2 == 0:\n",
        "        med_idx = int(len(L) / 2)\n",
        "        median = (L[med_idx-1] + L[med_idx]) / 2\n",
        "    else:\n",
        "        med_idx = int(len(L) / 2)\n",
        "        median = L[med_idx]\n",
        "\n",
        "    return median\n",
        "\n",
        "# Test Case 1.\n",
        "L = [1, 2, 3, 4, 5]\n",
        "\n",
        "# Test Case 2.\n",
        "L2 = [1, 4, 8, 10, 11, 14]\n",
        "\n",
        "# Test Case 3.\n",
        "L3 = [100, -11, 3, 3.5, 6, 7.7, 7]"
      ]
    },
    {
      "cell_type": "markdown",
      "metadata": {
        "id": "-FcwwPdhgCh5"
      },
      "source": [
        "### 문제 2. 음식 주문 시스템 만들기\n",
        "\n",
        "이 시스템은 메뉴를 관리하고, 주문을 받아 처리하는 기능을 가집니다. 여기서는 메뉴 클래스(Menu), 주문 클래스(Order), 그리고 주문 관리 클래스(OrderManager)를 구현합니다.\n",
        "\n",
        "1. **Menu 클래스**: 음식 이름과 가격을 관리합니다.\n",
        "2. **Order 클래스**: 특정 메뉴 항목에 대한 주문을 담습니다. 주문 번호와 주문한 메뉴 항목의 리스트를 포함합니다.\n",
        "3. **OrderManager 클래스**: 모든 주문을 관리합니다. 새 주문을 추가하고, 모든 주문을 보여주는 기능을 가집니다.\n",
        "\n",
        "위의 3가지를 기능을 아래 템플릿에 맞춰서 클래스로 구현해보세요.\n",
        "클래스 구현이 완료되면, 아래 실행 예시가 올바르게 실행되어야 합니다!"
      ]
    },
    {
      "cell_type": "code",
      "execution_count": null,
      "metadata": {
        "id": "6rWsHytBp-ob"
      },
      "outputs": [],
      "source": [
        "### 1. Menu 클래스\n",
        "class Menu:\n",
        "    def __init__(self, name, price):\n",
        "        self.name = name\n",
        "        self.price = price\n",
        "\n",
        "### 2. Order 클래스\n",
        "class Order:\n",
        "    def __init__(self, order_id):\n",
        "        self.order_id = order_id\n",
        "        self.menu = []\n",
        "\n",
        "    def add_item(self, ordered):\n",
        "        self.menu.append(ordered)\n",
        "\n",
        "### 3. OrderManager 클래스\n",
        "class OrderManager:\n",
        "    def __init__(self):\n",
        "        self.orders = []\n",
        "        self.order_id = 1\n",
        "    \n",
        "    def new_order(self):\n",
        "        order = Order(self.order_id)\n",
        "        self.orders.append(order)\n",
        "        self.order_id += 1\n",
        "        return order\n",
        "    \n",
        "    def show_all_orders(self):\n",
        "        for order in self.orders:\n",
        "            print(f\"Order ID: {order.order_id}\")\n",
        "            print(\"Items Ordered:\")\n",
        "            \n",
        "            for item in order.menu:\n",
        "                print(f\"{item.name}: ${item.price}\")\n",
        "            print(\"\")\n",
        "\n",
        "### 사용 예\n",
        "# 메뉴 항목 생성\n",
        "pizza = Menu(\"Pizza\", 10)\n",
        "pasta = Menu(\"Pasta\", 8)\n",
        "salad = Menu(\"Salad\", 5)\n",
        "\n",
        "# 주문 관리자 생성\n",
        "order_manager = OrderManager()\n",
        "\n",
        "# 새 주문 생성\n",
        "order1 = order_manager.new_order()\n",
        "order1.add_item(pizza)\n",
        "order1.add_item(salad)\n",
        "\n",
        "# 또 다른 주문 생성\n",
        "order2 = order_manager.new_order()\n",
        "order2.add_item(pasta)\n",
        "\n",
        "# 모든 주문 보기\n",
        "order_manager.show_all_orders()\n",
        "\n",
        "\n",
        "## 아래는 show_all_orders 실행결과\n",
        "# Order ID: 1\n",
        "# Items Ordered:\n",
        "# Pizza: $10\n",
        "# Salad: $5\n",
        "\n",
        "# Order ID: 2\n",
        "# Items Ordered:\n",
        "# Pasta: $8"
      ]
    },
    {
      "cell_type": "markdown",
      "metadata": {
        "id": "fMy604g-jRLV"
      },
      "source": [
        "### 문제3. 학교 관리 시스템\n",
        "\n",
        "학교에는 여러 학생들이 있고, 각 학생은 다양한 과목의 성적을 가집니다. 학교 관리 시스템을 구축하여 학생들의 정보를 관리하고, 특정 기준에 따라 우수 학생을 선별할 수 있는 프로그램을 작성하세요.\n",
        "\n",
        "#### 요구 사항:\n",
        "\n",
        "1. **Student 클래스**를 생성합니다. 이 클래스는 학생의 이름, 학번, 그리고 성적(과목명과 점수의 딕셔너리)을 속성으로 가집니다.\n",
        "2. **School 클래스**를 생성합니다. 이 클래스는 학생 객체의 리스트를 관리하며, 학생을 추가하고, 전체 학생 정보를 출력하는 메서드를 포함해야 합니다.\n",
        "3. School 클래스에는 평균 점수가 특정 기준 이상인 학생들만을 선별하여 그 목록을 반환하는 메서드도 포함시킵니다. 이 메서드는 평균 점수 기준값을 매개변수로 받습니다.\n",
        "\n",
        "아래 템플릿 코드를 사용하여, 출력 예시가 올바르게 나오도록 코드를 완성해보세요!"
      ]
    },
    {
      "cell_type": "code",
      "execution_count": null,
      "metadata": {
        "id": "a3hnTuNkgewP"
      },
      "outputs": [],
      "source": [
        "# 템플릿 코드\n",
        "class Student:\n",
        "    def __init__(self, name, student_id, grade):\n",
        "        self.name = name\n",
        "        self.student_id = student_id\n",
        "        self.grade = grade\n",
        "\n",
        "    def calculate_average(self):\n",
        "        return sum(self.grade.values()) / len(self.grade)\n",
        "\n",
        "\n",
        "class School:\n",
        "    def __init__(self):\n",
        "        self.students = []\n",
        "\n",
        "    def add_student(self, student):\n",
        "        self.students.append(student)\n",
        "\n",
        "    def print_students(self):\n",
        "        print('전체 학생')\n",
        "        for student in self.students:\n",
        "            print(f\"{student.name}({student.student_id})\")\n",
        "\n",
        "    def get_top_students(self, threshold):\n",
        "        return [student for student in self.students if student.calculate_average() >= threshold]\n",
        "\n",
        "# 예제 사용\n",
        "school = School()\n",
        "school.add_student(Student(\"김용담\", \"A01\", {\"수학\": 100, \"과학\": 95, \"영어\" : 50}))\n",
        "school.add_student(Student(\"신승현\", \"A02\", {\"수학\": 85, \"과학\": 95, \"영어\" : 66}))\n",
        "school.add_student(Student(\"양승인\", \"A03\", {\"수학\": 77, \"과학\": 88, \"영어\" : 100}))\n",
        "school.add_student(Student(\"김광민\", \"A04\", {\"수학\": 92, \"과학\": 100, \"영어\" : 70}))\n",
        "\n",
        "school.print_students()\n",
        "\n",
        "top_students = school.get_top_students(85)\n",
        "print(\"\\n평균 점수 85점 이상 학생:\")\n",
        "for student in top_students:\n",
        "    print(student)\n",
        "\n",
        "## 출력 결과\n",
        "# 양승인 (A03), 평균 점수: 88.33\n",
        "# 김광민 (A04), 평균 점수: 87.33"
      ]
    }
  ],
  "metadata": {
    "colab": {
      "provenance": []
    },
    "kernelspec": {
      "display_name": "Python 3",
      "language": "python",
      "name": "python3"
    },
    "language_info": {
      "codemirror_mode": {
        "name": "ipython",
        "version": 3
      },
      "file_extension": ".py",
      "mimetype": "text/x-python",
      "name": "python",
      "nbconvert_exporter": "python",
      "pygments_lexer": "ipython3",
      "version": "3.6.6"
    },
    "toc": {
      "base_numbering": 1,
      "nav_menu": {},
      "number_sections": true,
      "sideBar": true,
      "skip_h1_title": false,
      "title_cell": "Table of Contents",
      "title_sidebar": "Contents",
      "toc_cell": false,
      "toc_position": {},
      "toc_section_display": true,
      "toc_window_display": false
    }
  },
  "nbformat": 4,
  "nbformat_minor": 0
}
