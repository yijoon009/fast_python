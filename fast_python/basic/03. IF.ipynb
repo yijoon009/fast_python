{
 "cells": [
  {
   "cell_type": "markdown",
   "metadata": {
    "id": "Vv5aQXAiUi3r"
   },
   "source": [
    "## Conditional Statement (IF)"
   ]
  },
  {
   "cell_type": "markdown",
   "metadata": {
    "id": "Es1-Z2qdUi3u"
   },
   "source": [
    "## If statement (조건문)"
   ]
  },
  {
   "cell_type": "markdown",
   "metadata": {
    "id": "Hsk1YRFMUi3u"
   },
   "source": [
    "- 프로그램에서 가장 중요한 조건 판단이다.\n",
    "\n",
    "\n",
    "- 모든 프로그램은 조건을 판단하여 다음 진행 과정을 결정한다.\n",
    "\n",
    "\n",
    "- 파이썬은 if, elif, else 구문을 이용하여 조건을 사용할 수 있다."
   ]
  },
  {
   "cell_type": "markdown",
   "metadata": {
    "id": "UznXD9qcUi3u"
   },
   "source": [
    "> 간단한 예시를 생각해보자. **자판기에 들어갈 프로그램을 만들어야 한다.** 자판기에 입력된 돈이 300원이면 커피를 주고, 300원보다 적은 경우엔 돈을 그냥 돌려주고, 300원보다 많은 경우에는 커피와 함께 거스름돈을 주어야 한다. 이를 어떻게 구현할 수 있을까?"
   ]
  },
  {
   "cell_type": "markdown",
   "metadata": {
    "id": "xdlX35O6Ui3v"
   },
   "source": [
    "- 파이썬에서 if문을 사용하는 방법"
   ]
  },
  {
   "cell_type": "code",
   "execution_count": 1,
   "metadata": {
    "id": "xzKBABrIUi3v"
   },
   "outputs": [
    {
     "name": "stdout",
     "output_type": "stream",
     "text": [
      "True\n"
     ]
    }
   ],
   "source": [
    "a = 5\n",
    "# a가 5인데, a가 5와 같으면, True를 출력하고 싶다.\n",
    "if a == 5:\n",
    "    # colon(:) 이후에 나오는 첫번째 코드의 indentation을 해당 code block의 기준으로 정함\n",
    "    print(True)"
   ]
  },
  {
   "cell_type": "markdown",
   "metadata": {
    "id": "Pzwrwqv3Ui3w"
   },
   "source": [
    "> 조건문을 사용하기 위해선, 비교연산과 논리연산을 알아야 한다."
   ]
  },
  {
   "cell_type": "code",
   "execution_count": 2,
   "metadata": {
    "id": "hXV39i8KUi3w"
   },
   "outputs": [
    {
     "data": {
      "text/plain": [
       "True"
      ]
     },
     "execution_count": 2,
     "metadata": {},
     "output_type": "execute_result"
    }
   ],
   "source": [
    "# 같다, 다르다, 크다, 작다, 크거나 같다, 작거나 같다\n",
    "a=5\n",
    "b=7\n",
    "\n",
    "a == b\n",
    "a != b\n",
    "a > b\n",
    "a < b\n",
    "a >= b\n",
    "a <= b"
   ]
  },
  {
   "cell_type": "code",
   "execution_count": null,
   "metadata": {
    "id": "R1JySrQyUi3x"
   },
   "outputs": [],
   "source": [
    "# A and B\n",
    "A and B\n",
    "\n",
    "# A or B\n",
    "A or B\n",
    "\n",
    "# not A\n",
    "not A"
   ]
  },
  {
   "cell_type": "markdown",
   "metadata": {
    "id": "dEkOoiCbUi3x"
   },
   "source": [
    "> 비교연산과 논리연산의 공통점은 결과가 참(True) 또는 거짓(False)라는 것이다."
   ]
  },
  {
   "cell_type": "code",
   "execution_count": 13,
   "metadata": {},
   "outputs": [
    {
     "name": "stdout",
     "output_type": "stream",
     "text": [
      "1000는 윤년이 아닙니다.\n"
     ]
    }
   ],
   "source": [
    "# practive, Leap year checker (윤년 판독기)\n",
    "year = int(input())\n",
    "condition = (year % 4 == 0 and year % 100 != 0) or year % 400 == 0\n",
    "\n",
    "# int: 0 / float: 0.0 / str : ''  / list: [] / tuple: () / set: set() / dict: {}\n",
    "# 그냥 bool: True/False 여부에 따라 결정된다.\n",
    "\n",
    "if condition:\n",
    "    print(f'{year}는 윤년입니다.')\n",
    "if not condition:\n",
    "# else: \n",
    "    print(f'{year}는 윤년이 아닙니다.')\n"
   ]
  },
  {
   "cell_type": "markdown",
   "metadata": {
    "id": "ObfTcWwhUi3x"
   },
   "source": [
    "#### 자판기를 만들어보자."
   ]
  },
  {
   "cell_type": "markdown",
   "metadata": {
    "id": "dVQXP68aUi3x"
   },
   "source": [
    "> *REMIND*\n",
    "\n",
    "> **자판기에 들어갈 프로그램을 만들어야 한다.** 자판기에 입력된 돈이 300원이면 커피를 주고, 300원보다 적은 경우엔 돈을 그냥 돌려주고, 300원보다 많은 경우에는 커피와 함께 거스름돈을 주어야 한다. 이를 어떻게 구현할 수 있을까?"
   ]
  },
  {
   "cell_type": "code",
   "execution_count": 16,
   "metadata": {
    "id": "6F0CsTxgUi3x"
   },
   "outputs": [
    {
     "name": "stdout",
     "output_type": "stream",
     "text": [
      "not enough money, return 200\n"
     ]
    }
   ],
   "source": [
    "money = 200\n",
    "# 돈이 300원인데, 돈이 300원이랑 같으면 coffee를 준다.\n",
    "if money == 300:\n",
    "    print('coffee')\n",
    "elif money < 300:\n",
    "    print(f'not enough money, return {money}')\n",
    "else:\n",
    "    print('coffee')\n",
    "    charge = money - 300\n",
    "    print(f'return {charge}')"
   ]
  },
  {
   "cell_type": "code",
   "execution_count": null,
   "metadata": {
    "id": "cxuFUyqYUi3y"
   },
   "outputs": [],
   "source": [
    "money = 150\n",
    "# 돈이 200원 있다. 그러면 어떻게 해야할까?\n"
   ]
  },
  {
   "cell_type": "code",
   "execution_count": null,
   "metadata": {
    "id": "k6V0Tk29Ui3y"
   },
   "outputs": [],
   "source": [
    "money = 1000\n",
    "# 돈이 1000원이 있는 경우에는?\n"
   ]
  },
  {
   "cell_type": "markdown",
   "metadata": {
    "id": "yqWtTRVLUi3y"
   },
   "source": [
    "#### 자판기 코드 다시 생각해보기\n",
    "\n",
    "> if문에는 if가 아닌 경우에 해당하는 조건을 체크할 수 있는 elif(else if) 구문이 있다.\n",
    "\n",
    "> 모든 if, elif 조건에 체크되지 않는 나머지 경우를 처리하는 else 구문도 있다.\n",
    "\n",
    "**이를 자판기 예제에 다시 적용해보자.**"
   ]
  },
  {
   "cell_type": "code",
   "execution_count": 17,
   "metadata": {
    "id": "hOfIxc0QUi3y"
   },
   "outputs": [
    {
     "name": "stdout",
     "output_type": "stream",
     "text": [
      "coffee\n"
     ]
    }
   ],
   "source": [
    "money = 300\n",
    "# 돈이 300원인데, 돈이 300원이랑 같으면 coffee를 준다.\n",
    "if money == 300:\n",
    "    print('coffee')\n",
    "elif money < 300:\n",
    "    print(f'not enough money, return {money}')\n",
    "else:\n",
    "    print('coffee')\n",
    "    charge = money - 300\n",
    "    print(f'return {charge}')\n"
   ]
  },
  {
   "cell_type": "markdown",
   "metadata": {
    "id": "w0IIbaoBUi3y"
   },
   "source": [
    "#### if-elif-else 말고 nested 구조를 이용해 작성해보자. "
   ]
  },
  {
   "cell_type": "code",
   "execution_count": 18,
   "metadata": {
    "id": "mkwWeE7mUi3y"
   },
   "outputs": [
    {
     "name": "stdout",
     "output_type": "stream",
     "text": [
      "coffee\n"
     ]
    }
   ],
   "source": [
    "money = 300\n",
    "# 돈이 300원인데, 돈이 300원이랑 같으면 coffee를 준다.\n",
    "\n",
    "if money == 300:\n",
    "    print('coffee')\n",
    "else: # money != 300\n",
    "    if money < 300:\n",
    "        print(f'not enough money, return {money}')\n",
    "    elif money > 300:\n",
    "        print('coffee')\n",
    "        charge = money - 300\n",
    "        print(f'return {charge}')"
   ]
  },
  {
   "cell_type": "code",
   "execution_count": null,
   "metadata": {},
   "outputs": [],
   "source": []
  }
 ],
 "metadata": {
  "colab": {
   "collapsed_sections": [],
   "name": "Chapter.01 파이썬 프로그래밍-06. IF (실습).ipynb",
   "provenance": []
  },
  "kernelspec": {
   "display_name": "Python 3 (ipykernel)",
   "language": "python",
   "name": "python3"
  },
  "language_info": {
   "codemirror_mode": {
    "name": "ipython",
    "version": 3
   },
   "file_extension": ".py",
   "mimetype": "text/x-python",
   "name": "python",
   "nbconvert_exporter": "python",
   "pygments_lexer": "ipython3",
   "version": "3.9.6"
  }
 },
 "nbformat": 4,
 "nbformat_minor": 1
}
