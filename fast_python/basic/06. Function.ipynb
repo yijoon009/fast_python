{
 "cells": [
  {
   "cell_type": "markdown",
   "metadata": {
    "id": "asH4-Ll7yF0P"
   },
   "source": [
    "## Function이란?\n",
    "\n",
    "**수학적인 의미의 함수와 개념은 비슷하지만 역할이 다르다.**\n",
    "\n",
    "\n",
    "- input이 들어와서 output이 정해진 규칙에 따라 나온다는 개념은 같지만, 프로그램에서의 하나의 함수는 **하나의 기능**을 나타낸다.\n",
    "\n",
    "\n",
    "- 정확하게 함수는 특정 기능을 구현한 **코드 묶음**이다.\n",
    "\n",
    "\n",
    "- def 함수이름(param1, param2, ... ):\n",
    "        <statement1>\n",
    "        <statement2>\n",
    "      return\n",
    "\n",
    "\n",
    "- 함수를 쓰는 이유는 **재사용성** 때문이다."
   ]
  },
  {
   "cell_type": "markdown",
   "metadata": {
    "id": "sh1ZNG2GyF0P"
   },
   "source": [
    "> 함수를 사용하는 가장 중요한 이유는 재사용성 때문이다. Reusability라고 하며, ***똑같은 구조의 코드가 반복되는 것을 피하기 위해 사용***된다. 똑같은 구조의 코드는 보통 한 가지의 기능 단위로 묶이게 되며, 이 기능 단위를 코드로 묶어서 함수로 만든다."
   ]
  },
  {
   "cell_type": "markdown",
   "metadata": {},
   "source": []
  },
  {
   "cell_type": "code",
   "execution_count": null,
   "metadata": {},
   "outputs": [],
   "source": []
  },
  {
   "cell_type": "markdown",
   "metadata": {
    "id": "8fPSbSXzyF0Q"
   },
   "source": [
    "## Python Function Definition"
   ]
  },
  {
   "cell_type": "code",
   "execution_count": 3,
   "metadata": {
    "id": "tB-3gkTGyF0Q"
   },
   "outputs": [
    {
     "name": "stdout",
     "output_type": "stream",
     "text": [
      "10\n"
     ]
    }
   ],
   "source": [
    "# user-defined function\n",
    "# default argument를 사용할때는, non-default argument들을 모두 앞에 나열한 뒤에 사용해야 한다.\n",
    "def foo(a: int, b: int = 5) -> int:     # 이 한줄을 함수의 signature라고 부른다 (added type hinting)\n",
    "    '''\n",
    "    a, b는 정수이고, foo 함수는 a, b를 입력받아서 더하는 기능을 제공한다.\n",
    "    더한 값을 return한다.\n",
    "    '''\n",
    "    # 함수 첫번째 줄에 '''''' 로 작성된 내용은 doc string 이라고 불린다.\n",
    "    \n",
    "    c = a+b\n",
    "    return c\n",
    "\n",
    "# print(foo(3, 5))\n",
    "print(foo(5))\n",
    "\n",
    "# built-in function\n",
    "# print()\n",
    "# input()\n",
    "# len()\n",
    "# ..."
   ]
  },
  {
   "cell_type": "markdown",
   "metadata": {
    "id": "gY3l8oWLyF0R"
   },
   "source": [
    "- 정확한 용어 구분은 중요하지만, 보통은 parameter라고 총칭한다. 크게 중요하진 않다."
   ]
  },
  {
   "cell_type": "markdown",
   "metadata": {
    "id": "8yTnxs3ByF0R"
   },
   "source": [
    "#### 기억해야 할 것은, input --- (Function) ----> output 의 구조이며, 이 때 어떤 input parameter가 들어가서, 어떤 output parameter가 나오는지 주목해야한다."
   ]
  },
  {
   "cell_type": "markdown",
   "metadata": {
    "id": "cMW-5h7OyF0R"
   },
   "source": [
    "#### 연습삼아, 사칙연산을 모두 함수로 만들어보자."
   ]
  },
  {
   "cell_type": "code",
   "execution_count": 13,
   "metadata": {
    "id": "BGO2MfZbyF0S"
   },
   "outputs": [
    {
     "name": "stdout",
     "output_type": "stream",
     "text": [
      "0으로 나누는 연산은 지원하지 않습니다.\n"
     ]
    }
   ],
   "source": [
    "# def div(a: int, b: int) -> float:  ## function definition\n",
    "#     '''\n",
    "#     a, b는 정수이고, a를 b로 나눈 값을 return하는 함수\n",
    "#     '''\n",
    "#     if b == 0:\n",
    "#         print('0으로 나누는 연산은 지원하지 않습니다.')\n",
    "#     else:\n",
    "#         return a/b\n",
    "    \n",
    "\n",
    "def div(a: int, b: int) -> float:  ## function definition\n",
    "    '''\n",
    "    a, b는 정수이고, a를 b로 나눈 값을 return하는 함수\n",
    "    '''\n",
    "    try:        # 원래 하려고 했던 코드 (에러가 발생할 것 같은 코드)\n",
    "        c = a/b\n",
    "        return c\n",
    "    except ZeroDivisionError:     # 에러가 발생했을때 실행할 코드\n",
    "        print('0으로 나누는 연산은 지원하지 않습니다.')\n",
    "\n",
    "\n",
    "div(9, 3) ## function call\n",
    "div(11, 2)\n",
    "div(0, 8)\n",
    "div(8, 0)\n",
    "# div(8, 'a')"
   ]
  },
  {
   "cell_type": "markdown",
   "metadata": {
    "id": "e1-9IBVW4k65"
   },
   "source": [
    "### 함수 정의의 다양한 형태를 연습해보자!"
   ]
  },
  {
   "cell_type": "markdown",
   "metadata": {
    "id": "Qz8sWqk94su9"
   },
   "source": [
    "#### 1. 가장 흔하게 사용되는 경우 -> 함수 parameter와 return이 모두 존재하는 경우."
   ]
  },
  {
   "cell_type": "code",
   "execution_count": null,
   "metadata": {
    "id": "lD9J7z5H4g9C"
   },
   "outputs": [],
   "source": [
    "def x(a, b):\n",
    "    return a + b"
   ]
  },
  {
   "cell_type": "markdown",
   "metadata": {
    "id": "m9OcUVVw41z_"
   },
   "source": [
    "#### 2. 함수 parameter는 없고 return이 존재하는 경우."
   ]
  },
  {
   "cell_type": "code",
   "execution_count": null,
   "metadata": {
    "id": "iXFA9fXX465J"
   },
   "outputs": [],
   "source": [
    "def x():\n",
    "    return \"Hi\""
   ]
  },
  {
   "cell_type": "markdown",
   "metadata": {
    "id": "6qJLyvYx46gF"
   },
   "source": [
    "#### 3. 함수 parameter는 있는데 return이 없는 경우."
   ]
  },
  {
   "cell_type": "code",
   "execution_count": null,
   "metadata": {
    "id": "64MV2yDF4-jA"
   },
   "outputs": [],
   "source": [
    "def x(a):\n",
    "    a = a + 1"
   ]
  },
  {
   "cell_type": "markdown",
   "metadata": {
    "id": "aaePVAX_4_Ku"
   },
   "source": [
    "#### 4. 함수 parameter도 없고 return도 없는 경우."
   ]
  },
  {
   "cell_type": "code",
   "execution_count": null,
   "metadata": {
    "id": "vyihU5Zw5CJL"
   },
   "outputs": [],
   "source": [
    "def x():\n",
    "    print(\"Hello World\")\n",
    "    \n",
    "x()"
   ]
  },
  {
   "cell_type": "markdown",
   "metadata": {
    "id": "lqCawSAlyF0S"
   },
   "source": [
    "#### Q. 만약에 함수의 입력 parameter의 개수를 모를땐 어떻게 해야할까?"
   ]
  },
  {
   "cell_type": "code",
   "execution_count": 17,
   "metadata": {
    "id": "yFsI7D5fyF0S"
   },
   "outputs": [
    {
     "data": {
      "text/plain": [
       "30"
      ]
     },
     "execution_count": 17,
     "metadata": {},
     "output_type": "execute_result"
    }
   ],
   "source": [
    "# *(asterisk)를 앞에 붙이는 것으로 여러개의 parameter를 받아서 tuple로 변환하여 준다.   \n",
    "def add_many(*args):\n",
    "    # 파라미터로 입력받은 모든 숫자를 더해서 return 해주는 함수.\n",
    "    ## TO-DO\n",
    "    # tuple_a = args\n",
    "    total = 0       # initialization\n",
    "    for tup in args:\n",
    "        total += tup\n",
    "    return total\n",
    "\n",
    "def add_many(*args, **kwargs):      # **kwargs 이거는 딕셔너리로 받는다.\n",
    "    # 파라미터로 입력받은 모든 숫자를 더해서 return 해주는 함수.\n",
    "    ## TO-DO\n",
    "    # tuple_a = args\n",
    "    total = 0       # initialization\n",
    "    for tup in args:\n",
    "        total += tup\n",
    "    return total\n",
    "\n",
    "add_many(1, 2, 3, 4, 5)\n",
    "add_many(1, 2, 3, 4, 5,1,2,3,4,5)"
   ]
  },
  {
   "cell_type": "markdown",
   "metadata": {
    "id": "h7Z72wjwyF0T"
   },
   "source": [
    "#### Q. 코드를 작성할 때, 언제 이 부분은 함수로 구현해야겠다 라고 판단할 수 있을까?\n",
    "\n",
    "***A. 똑같은 코드가 2번 이상 반복될 때.***"
   ]
  },
  {
   "cell_type": "markdown",
   "metadata": {
    "id": "_IreDkFq8Qmm"
   },
   "source": [
    "### 파라미터에 대해 조금 더 알아봅시다!\n",
    "\n",
    "- 함수에서 사용되는 변수들에게는 효력 범위와 수명이 있습니다."
   ]
  },
  {
   "cell_type": "markdown",
   "metadata": {
    "id": "w9x7d_Ka8T13"
   },
   "source": [
    "Q. 만약에 함수의 파라미터 변수 이름과, 함수를 호출하는 argument의 이름이 같은 경우에 어떻게 될까?\n",
    "\n",
    "\n",
    "- 파이썬에서는 함수의 파라미터로, int/float/str/tuple(immutable data type)이 넘어가는 경우에는 내부에서 해당 변수를 수정해도 바뀌지 않습니다.\n",
    "\n",
    "- 파이썬에서는 함수의 파라미터로, list/dict/set(mutable data type)이 넘어가는 경우에는 내부에서 해당 변수가 바뀝니다."
   ]
  },
  {
   "cell_type": "code",
   "execution_count": 18,
   "metadata": {
    "id": "UwgEw1Bd8ljQ"
   },
   "outputs": [
    {
     "name": "stdout",
     "output_type": "stream",
     "text": [
      "1. Kim\n",
      "5. Kim\n",
      "2. Kim\n",
      "3. Lee\n",
      "6. Kim\n",
      "2. Kim\n",
      "3. Lee\n",
      "7. Kim\n"
     ]
    }
   ],
   "source": [
    "# global variable\n",
    "# ipynl 파일들에서는 global variable이 한번 실행되면, 해당 프로그램이 종료될때까지 lifetime을 가진다.\n",
    "\n",
    "name = \"Kim\"\n",
    "print(f\"1. {name}\")\n",
    "def change_name(name):\n",
    "    # 함수 내부 code block에서 정의된 변수를 Local variable\n",
    "    print(f\"2. {name}\")\n",
    "    name = 'Lee'\n",
    "    print(f\"3. {name}\")\n",
    "    return name\n",
    "    print(f\"4. {name}\")\n",
    "\n",
    "# global variable\n",
    "print(f\"5. {name}\")\n",
    "change_name(name)\n",
    "print(f\"6. {name}\")\n",
    "change_name(name)\n",
    "print(f\"7. {name}\")"
   ]
  },
  {
   "cell_type": "code",
   "execution_count": 21,
   "metadata": {},
   "outputs": [
    {
     "name": "stdout",
     "output_type": "stream",
     "text": [
      "1. [1, 2, 3]\n",
      "2. [1, 2, 3]\n",
      "3. [4, 2]\n",
      "4. [4, 2]\n"
     ]
    }
   ],
   "source": [
    "# parameter passing할 때, mutable object가 넘어가면 해당 object 자체가 넘어간다.\n",
    "\n",
    "def change_list(L):\n",
    "    # local variable\n",
    "    \n",
    "    print(f\"2. {L}\")\n",
    "    L[0] = 4\n",
    "    L.pop()\n",
    "    print(f\"3. {L}\")\n",
    "\n",
    "# global variable\n",
    "L = [1, 2, 3]\n",
    "# t = tuple(L)\n",
    "print(f\"1. {L}\")\n",
    "change_list(L)\n",
    "print(f\"4. {L}\")"
   ]
  },
  {
   "cell_type": "code",
   "execution_count": 22,
   "metadata": {},
   "outputs": [
    {
     "name": "stdout",
     "output_type": "stream",
     "text": [
      "1. [1, 2, 3]\n",
      "2. [1, 2, 3]\n",
      "3. [4, 2]\n",
      "4. [4, 2]\n"
     ]
    }
   ],
   "source": [
    "def change_list(L):\n",
    "    # local variable\n",
    "    print(f\"2. {L}\")\n",
    "    L[0] = 4\n",
    "    L.pop()\n",
    "    print(f\"3. {L}\")\n",
    "# global variable\n",
    "L = [1, 2, 3]\n",
    "print(f\"1. {L}\")\n",
    "change_list(L)\n",
    "print(f\"4. {L}\")"
   ]
  },
  {
   "cell_type": "markdown",
   "metadata": {
    "id": "3Zv4U8eX6TcF"
   },
   "source": [
    "### Lambda 함수를 사용해보자!\n",
    "> Lambda Expression\n",
    "\n",
    "\n",
    "- 굉장히 간단한 함수가 있는 경우, 한 줄짜리 함수로 간편하게 사용할 수 있다.\n",
    "\n",
    "- 이런 함수를 Lambda 함수라고 하며, lambda 함수와 반복문을 통해 함수의 정의없이 다양한 프로그래밍이 가능하다."
   ]
  },
  {
   "cell_type": "code",
   "execution_count": null,
   "metadata": {
    "id": "FmRItf0AyF0T"
   },
   "outputs": [],
   "source": [
    "def add(a, b):\n",
    "    return a+b\n",
    "\n",
    "# lambda function, lambda expression, inline function -> function parameter passing 해야하는 경우에 많이 사용됨\n",
    "# lambda 함수로 바꾸면?\n",
    "f = lambda a,b : a+b\n",
    "\n",
    "print(add(3, 5))\n",
    "print(f(3, 5))"
   ]
  },
  {
   "cell_type": "code",
   "execution_count": null,
   "metadata": {},
   "outputs": [],
   "source": []
  }
 ],
 "metadata": {
  "colab": {
   "collapsed_sections": [],
   "name": "Chapter.01 파이썬 프로그래밍-10. 함수 (실습).ipynb",
   "provenance": []
  },
  "kernelspec": {
   "display_name": "Python 3 (ipykernel)",
   "language": "python",
   "name": "python3"
  },
  "language_info": {
   "codemirror_mode": {
    "name": "ipython",
    "version": 3
   },
   "file_extension": ".py",
   "mimetype": "text/x-python",
   "name": "python",
   "nbconvert_exporter": "python",
   "pygments_lexer": "ipython3",
   "version": "3.12.3"
  }
 },
 "nbformat": 4,
 "nbformat_minor": 1
}
