{
 "cells": [
  {
   "cell_type": "markdown",
   "metadata": {},
   "source": [
    "## 문제 1: 비밀번호 강도 체크\n",
    "사용자로부터 비밀번호를 입력받아, 그 비밀번호가 강한지 약한지를 평가하는 프로그램을 작성하세요. 비밀번호 강도는 다음 조건에 따라 결정됩니다:\n",
    "\n",
    "8자리 이상, 숫자와 영문자(대문자 및 소문자)를 모두 포함: \"강함\"\n",
    "그렇지 않으면: \"약함\"\n",
    "\n",
    "[HINT] str.isalpha(), str.isdigit(), str.isalnum()을 사용합니다."
   ]
  },
  {
   "cell_type": "code",
   "execution_count": null,
   "metadata": {},
   "outputs": [],
   "source": [
    "password  = \"\"\n"
   ]
  },
  {
   "cell_type": "markdown",
   "metadata": {},
   "source": [
    "## 문제 2. 별 찍기!\n",
    "\n",
    "* 하늘의 아름다운 별을 따다 코드로 작성해보자.\n",
    "\n",
    "> 이해하고 싶으신 분들은 별 찍기의 출력을 반대로 해보세요!"
   ]
  },
  {
   "cell_type": "code",
   "execution_count": null,
   "metadata": {},
   "outputs": [],
   "source": [
    "# number = 5\n",
    "*****\n",
    "****\n",
    "***\n",
    "**\n",
    "*"
   ]
  },
  {
   "cell_type": "code",
   "execution_count": null,
   "metadata": {},
   "outputs": [],
   "source": [
    "number = int(input(\"Input the number of lines : \"))\n"
   ]
  },
  {
   "cell_type": "markdown",
   "metadata": {},
   "source": [
    "## 문제 3. 단어 갯수 구하기\n",
    "\n",
    "* 다음과 같은 영어 문서 하나가 있다.\n",
    "* 다음 문서에 등장하는 단어마다 등장 횟수를 세어보자!"
   ]
  },
  {
   "cell_type": "code",
   "execution_count": null,
   "metadata": {},
   "outputs": [],
   "source": [
    "#아래 문자열은 하나의 문서를 의미합니다.\n",
    "pep8 = \"\"\"This document gives coding conventions for the Python code comprising the standard library in the main Python distribution. Please see the companion informational PEP describing style guidelines for the C code in the C implementation of Python.\n",
    "This document and PEP 257 (Docstring Conventions) were adapted from Guido’s original Python Style Guide essay, with some additions from Barry’s style guide [2].\n",
    "This style guide evolves over time as additional conventions are identified and past conventions are rendered obsolete by changes in the language itself.\n",
    "Many projects have their own coding style guidelines. In the event of any conflicts, such project-specific guides take precedence for that project.\n",
    "\"\"\""
   ]
  },
  {
   "cell_type": "code",
   "execution_count": null,
   "metadata": {},
   "outputs": [],
   "source": [
    "# word_Dict는 문서 하나당 단어와 단어 갯수가 저장되는 사전입니다. 하나만 사용하셔도 되고, 여러개를 사용하셔도 됩니다.\n",
    "\n",
    "# HINT:\n",
    "## 1. pep8.split() + for statement\n",
    "## 2. Dictionary\n"
   ]
  },
  {
   "cell_type": "code",
   "execution_count": null,
   "metadata": {},
   "outputs": [],
   "source": []
  }
 ],
 "metadata": {
  "kernelspec": {
   "display_name": "Python 3 (ipykernel)",
   "language": "python",
   "name": "python3"
  },
  "language_info": {
   "codemirror_mode": {
    "name": "ipython",
    "version": 3
   },
   "file_extension": ".py",
   "mimetype": "text/x-python",
   "name": "python",
   "nbconvert_exporter": "python",
   "pygments_lexer": "ipython3",
   "version": "3.11.5"
  }
 },
 "nbformat": 4,
 "nbformat_minor": 2
}
