{
 "cells": [
  {
   "cell_type": "markdown",
   "metadata": {
    "id": "7KaEFFwmaz9f"
   },
   "source": [
    "## I/O (Input / Output) "
   ]
  },
  {
   "cell_type": "markdown",
   "metadata": {
    "id": "Ob-m8XQbaz9o"
   },
   "source": [
    "### 1. STDIN / STDOUT (Standard IN, Standard OUT)"
   ]
  },
  {
   "cell_type": "markdown",
   "metadata": {
    "id": "I9B1Br_0az9o"
   },
   "source": [
    "- 파이썬은 input()을 통해서 stdin을 사용자로부터 입력받을 수 있다.\n",
    "\n",
    "\n",
    "- 파이썬은 print()를 통해서 stdout을 사용자에게 출력할 수 있다."
   ]
  },
  {
   "cell_type": "code",
   "execution_count": 4,
   "metadata": {
    "id": "NcHNtr58az9p"
   },
   "outputs": [
    {
     "data": {
      "text/plain": [
       "int"
      ]
     },
     "execution_count": 4,
     "metadata": {},
     "output_type": "execute_result"
    }
   ],
   "source": [
    "# a에 키보드로 입력받은 값을 할당하고 출력해본다.\n",
    "a = input('숫자를 입력해주세요: ')\n",
    "type(a)"
   ]
  },
  {
   "cell_type": "markdown",
   "metadata": {
    "id": "-9bkJP0haz9q"
   },
   "source": [
    "- 파이썬에서는 stdin은 무조건 문자열 타입으로 들어온다. 이를 type casting을 통해서 다른 데이터 타입으로 바꾸어 사용해야 한다."
   ]
  },
  {
   "cell_type": "code",
   "execution_count": 5,
   "metadata": {
    "id": "Kre90bwsaz9r"
   },
   "outputs": [
    {
     "data": {
      "text/plain": [
       "1"
      ]
     },
     "execution_count": 5,
     "metadata": {},
     "output_type": "execute_result"
    }
   ],
   "source": [
    "# 입력받는 값을 숫자라고 가정한 경우.\n",
    "while True:   # infinite loop\n",
    "    try:\n",
    "        number = int(input(\"정수를 하나 입력해주세요 : \"))\n",
    "        break\n",
    "    except ValueError:\n",
    "        print(\"정수를 입력해주세요. 정수가 아닌 값은 변환이 되지 않습니다!\")\n",
    "\n",
    "flag = True\n",
    "while flag:   # infinite loop\n",
    "    try:\n",
    "        number = int(input(\"정수를 하나 입력해주세요 : \"))\n",
    "        flag = False\n",
    "    except ValueError:\n",
    "        print(\"정수를 입력해주세요. 정수가 아닌 값은 변환이 되지 않습니다!\")\n",
    "\n",
    "print(f\"정수 {number}를 입력받았습니다.\")"
   ]
  },
  {
   "cell_type": "code",
   "execution_count": 7,
   "metadata": {
    "id": "8iinAvVAaz9r"
   },
   "outputs": [
    {
     "name": "stdout",
     "output_type": "stream",
     "text": [
      "입력 받은 정수 : 1\n"
     ]
    }
   ],
   "source": [
    "# 입력받는 값을 숫자라고 가정했는데 문자열이 들어오면 에러가 난다. 이 경우는 type casting이 실패한 경우이다.\n",
    "while True:     # infinite loop\n",
    "    try:\n",
    "        num = int(input('정수를 입력해주세요: '))\n",
    "        break\n",
    "    except ValueError:\n",
    "        print('정수를 입력해주세요. 정수가 아닌 값은 변환이 되지 않습니다.')\n",
    "\n",
    "print(f'입력 받은 정수 : {num}')\n",
    "\n",
    "    "
   ]
  },
  {
   "cell_type": "markdown",
   "metadata": {
    "id": "6eZWUq_Daz9r"
   },
   "source": [
    "- 입력이 문자열이기 때문에 fancy하게 input을 처리할 수 있는 방법이 있다."
   ]
  },
  {
   "cell_type": "markdown",
   "metadata": {
    "id": "XDI8URO8az9s"
   },
   "source": [
    "#### Q. 만약에 stdin으로 여러 개의 숫자가 들어오는 경우, 입력의 format을 알고 있다고 가정했을 때, 이를 효과적으로 처리할 수 있을까?"
   ]
  },
  {
   "cell_type": "code",
   "execution_count": 14,
   "metadata": {
    "id": "sg0e_5H5az9s"
   },
   "outputs": [
    {
     "data": {
      "text/plain": [
       "[1, 2, 3, 4, 5]"
      ]
     },
     "execution_count": 14,
     "metadata": {},
     "output_type": "execute_result"
    }
   ],
   "source": [
    "# 이는 숫자를 2개로 가정한 경우\n",
    "# a, b = 30, 50\n",
    "# print(a, b)\n",
    "# a, b = input()\n",
    "\n",
    "# a, b = input('숫자 두 개를 입력하세요. (e.g. 1, 10, 20, ...)').split(',')\n",
    "# print(a, b)\n",
    "# a = int(a)\n",
    "# b = int(b)\n",
    "# print(a+b)\n",
    "\n",
    "# Pythonic\n",
    "# 숫자 여러개 받기\n",
    "[int(n) for n in input('숫자 여러개를 입력하세요, e.g. 1,23,4,5,56 ...').split(',')]\n"
   ]
  },
  {
   "cell_type": "code",
   "execution_count": 17,
   "metadata": {},
   "outputs": [
    {
     "name": "stdout",
     "output_type": "stream",
     "text": [
      "10|5*10|5\n",
      "10|5*"
     ]
    }
   ],
   "source": [
    "# print\n",
    "a, b = 10, 5\n",
    "print(a, b, sep='|', end='*')\n",
    "print(a, b, sep='|', end='\\n')\n",
    "print(a, b, sep='|', end='--')"
   ]
  },
  {
   "cell_type": "markdown",
   "metadata": {
    "id": "DPYlwZhEaz9t"
   },
   "source": [
    "### 2. File I/O"
   ]
  },
  {
   "cell_type": "markdown",
   "metadata": {
    "id": "HqaNOvZG1sgw"
   },
   "source": [
    "- file I/O란 프로그램에서 파일을 저장하고 불러오는 모든 것들을 의미합니다.\n",
    "\n",
    "- file에는 txt, png, json, xlsx 등 여러가지 종류가 있습니다.\n",
    "\n",
    "- 그 중에서 가장 간단하게 사용할 수 있는 데이터는 txt 파일입니다."
   ]
  },
  {
   "cell_type": "markdown",
   "metadata": {
    "id": "BGNX1KElaz9t"
   },
   "source": [
    "> 텍스트 파일을 여는 방법에는 read(), readline(), readlines(), for문을 이용한 방법이 있다. 코드를 통해 각 방법의 차이를 알아보자."
   ]
  },
  {
   "cell_type": "code",
   "execution_count": null,
   "metadata": {},
   "outputs": [],
   "source": [
    "#절대경로 :\n",
    "#/Users/emphistaff/My Drive/Lecture Materials/...\n",
    "\n",
    "#상대경로 :\n",
    "#코드(프로그램)이 실행되고 있는 위치를 기준으로 한 파일의 경로.\n"
   ]
  },
  {
   "cell_type": "markdown",
   "metadata": {},
   "source": [
    "#### 파일을 불러올 때 생기는 분노 포인트\n",
    "\n",
    "1. 경로를 인식하지 못하는 경우\n",
    "\n",
    "> 경로에 영어가 아닌 다른 글자(주로 한글)이 있는 경우에 인식하지 못하는 케이스가 있음.\n",
    "\n",
    "> 경로가 진짜로 틀린 경우. e.g. '/' '\\'\n",
    "\n",
    "2. 파일 내부의 데이터가 **한글** 텍스트인 경우\n",
    "\n",
    "> 기본적으로 텍스트를 'utf-8' 이라는 방식으로 인코딩함.\n",
    "\n",
    "> 윈도우 + 한글 : cp949"
   ]
  },
  {
   "cell_type": "code",
   "execution_count": 22,
   "metadata": {
    "id": "VKYHye1baz9u"
   },
   "outputs": [
    {
     "name": "stdout",
     "output_type": "stream",
     "text": [
      "아\n",
      "휴\n",
      "아이구\n",
      "아이쿠\n",
      "아이고\n",
      "어\n",
      "나\n",
      "우리\n",
      "저희\n",
      "따라\n",
      "의해\n",
      "을\n",
      "를\n",
      "에\n",
      "의\n",
      "가\n",
      "으로\n",
      "로\n",
      "에게\n",
      "뿐이다\n",
      "의거하여\n",
      "근거하여\n",
      "입각하여\n",
      "기준으로\n",
      "예하면\n",
      "예를 들면\n",
      "예를 들자면\n"
     ]
    }
   ],
   "source": [
    "# f.read()를 통해 data 폴더안에 있는 test.txt를 read mode로 열어봅니다.\n",
    "## read - r, (over)write - w, append - a\n",
    "\n",
    "# f = open('./test.txt')\n",
    "# window인 경우, encoding 옵션 추가\n",
    "# open('./test.txt', encoding='utf-8')\n",
    "\n",
    "# print(f.read())        # txt 파일에 있는 모든 내용을 하나의 string으로 읽어옴.\n",
    "\n",
    "# f.close()       # fileIOWrapper를 사용 후에 닫아주어야 함.(연결을 끊어줘야함.)\n",
    "\n",
    "# with open은 open 후에 close까지 자동으로 수행됨. code block이 종료되면, 그때 close 자동 실행\n",
    "with open('./test.txt') as f:\n",
    "    print(f.read())\n"
   ]
  },
  {
   "cell_type": "code",
   "execution_count": 25,
   "metadata": {
    "id": "4DSliMQlaz9u"
   },
   "outputs": [
    {
     "name": "stdout",
     "output_type": "stream",
     "text": [
      "아\n",
      "\n"
     ]
    }
   ],
   "source": [
    "# f.readline()를 통해 data 폴더안에 있는 test.txt를 read mode로 열어봅니다.\n",
    "with open('./test.txt') as f:\n",
    "    print(f.readline())"
   ]
  },
  {
   "cell_type": "code",
   "execution_count": 26,
   "metadata": {
    "id": "SLD_zgm4az9u"
   },
   "outputs": [
    {
     "name": "stdout",
     "output_type": "stream",
     "text": [
      "['아\\n', '휴\\n', '아이구\\n', '아이쿠\\n', '아이고\\n', '어\\n', '나\\n', '우리\\n', '저희\\n', '따라\\n', '의해\\n', '을\\n', '를\\n', '에\\n', '의\\n', '가\\n', '으로\\n', '로\\n', '에게\\n', '뿐이다\\n', '의거하여\\n', '근거하여\\n', '입각하여\\n', '기준으로\\n', '예하면\\n', '예를 들면\\n', '예를 들자면']\n"
     ]
    }
   ],
   "source": [
    "# f.readlines()를 통해 data 폴더안에 있는 test.txt를 read mode로 열어봅니다.\n",
    "with open('./test.txt') as f:\n",
    "    print(f.readlines())    # 텍스트 파일 내에서 '\\n'을 기준으로 자른 리스트를 반환"
   ]
  },
  {
   "cell_type": "code",
   "execution_count": 28,
   "metadata": {
    "id": "WEP8wGLoaz9u"
   },
   "outputs": [
    {
     "name": "stdout",
     "output_type": "stream",
     "text": [
      "아\n",
      "휴\n",
      "아이구\n",
      "아이쿠\n",
      "아이고\n",
      "어\n",
      "나\n",
      "우리\n",
      "저희\n",
      "따라\n",
      "의해\n",
      "을\n",
      "를\n",
      "에\n",
      "의\n",
      "가\n",
      "으로\n",
      "로\n",
      "에게\n",
      "뿐이다\n",
      "의거하여\n",
      "근거하여\n",
      "입각하여\n",
      "기준으로\n",
      "예하면\n",
      "예를 들면\n",
      "예를 들자면"
     ]
    }
   ],
   "source": [
    "# for문을 통해 data 폴더안에 있는 test.txt를 read mode로 열어서 출력해봅니다.\n",
    "with open('./test.txt') as f:\n",
    "    for line in f:      # 자동으로 f가 가리키는 파일의 한줄한줄씩 불러옴.\n",
    "        print(line, end='')"
   ]
  },
  {
   "cell_type": "markdown",
   "metadata": {
    "id": "RJ7dLzyeaz9v"
   },
   "source": [
    "#### Q. test.txt를 열어서 한글자짜리를 다 지우고 다시 저장하고 싶다. 어떻게 해야할까?"
   ]
  },
  {
   "cell_type": "code",
   "execution_count": 39,
   "metadata": {
    "id": "fP0xhI0Caz9v"
   },
   "outputs": [
    {
     "name": "stdout",
     "output_type": "stream",
     "text": [
      "['아이구', '아이쿠', '아이고', '우리', '저희', '따라', '의해', '으로', '에게', '뿐이다', '의거하여', '근거하여', '입각하여', '기준으로', '예하면', '예를 들면', '예를 들자면']\n"
     ]
    }
   ],
   "source": [
    "# test.txt를 read mode로 열고 할 일이 끝나면 자동으로 닫는다.\n",
    "with open('./test.txt', 'r') as f:\n",
    "    output_list = []\n",
    "    \n",
    "    # 두글자 이상인 텍스트만 output list에 저장한다.\n",
    "    for line in f:\n",
    "        # line = line.replace('\\n', '')\n",
    "        # 1안\n",
    "        line = line.strip()\n",
    "        if len(line) >= 2:\n",
    "            # 2안\n",
    "            # output_list.append(line.strip())\n",
    "            output_list.append(line)\n",
    "\n",
    "print(output_list)\n",
    "# result.txt로 output list에 있는 내용을 저장하기 위해 write mode로 열었다.\n",
    "# 기존에 저장된 파일을 완전히 덮어쓴느게 아니고, 추가하고 싶은거면 'a' (append mode)를 사용한다.\n",
    "with open('result.txt', 'w') as f:\n",
    "    # 1. f.write()는 주어진 string 자체를 그대로 저장한다. (줄바꿈 없음)\n",
    "    # f.write()\n",
    "    # 2. print(file = f). stdout을 fileout으로 변경\n",
    "    for word in output_list:\n",
    "        # print(word, end = '\\n', file = f)\n",
    "        print(word, file=f)\n",
    "\n",
    "\n"
   ]
  },
  {
   "cell_type": "code",
   "execution_count": 40,
   "metadata": {
    "id": "WT40gJ8Naz9v"
   },
   "outputs": [
    {
     "data": {
      "text/plain": [
       "['아이구\\n',\n",
       " '아이쿠\\n',\n",
       " '아이고\\n',\n",
       " '우리\\n',\n",
       " '저희\\n',\n",
       " '따라\\n',\n",
       " '의해\\n',\n",
       " '으로\\n',\n",
       " '에게\\n',\n",
       " '뿐이다\\n',\n",
       " '의거하여\\n',\n",
       " '근거하여\\n',\n",
       " '입각하여\\n',\n",
       " '기준으로\\n',\n",
       " '예하면\\n',\n",
       " '예를 들면\\n',\n",
       " '예를 들자면\\n']"
      ]
     },
     "execution_count": 40,
     "metadata": {},
     "output_type": "execute_result"
    }
   ],
   "source": [
    "# 제대로 데이터가 저장되어 있는지, 불러와서 확인한다.\n",
    "with open('result.txt', 'r') as f:\n",
    "    output = [line for line in f]\n",
    "output"
   ]
  },
  {
   "cell_type": "markdown",
   "metadata": {
    "id": "Z1O6wq4Baz9v"
   },
   "source": [
    "### (OPTIONAL) pickle 라이브러리를 통해서 파이썬 object 자체를 저장하기"
   ]
  },
  {
   "cell_type": "code",
   "execution_count": 41,
   "metadata": {
    "id": "Y8SXE8dDaz9v"
   },
   "outputs": [
    {
     "data": {
      "text/plain": [
       "['아이구\\n',\n",
       " '아이쿠\\n',\n",
       " '아이고\\n',\n",
       " '우리\\n',\n",
       " '저희\\n',\n",
       " '따라\\n',\n",
       " '의해\\n',\n",
       " '으로\\n',\n",
       " '에게\\n',\n",
       " '뿐이다\\n',\n",
       " '의거하여\\n',\n",
       " '근거하여\\n',\n",
       " '입각하여\\n',\n",
       " '기준으로\\n',\n",
       " '예하면\\n',\n",
       " '예를 들면\\n',\n",
       " '예를 들자면\\n']"
      ]
     },
     "execution_count": 41,
     "metadata": {},
     "output_type": "execute_result"
    }
   ],
   "source": [
    "output"
   ]
  },
  {
   "cell_type": "code",
   "execution_count": 42,
   "metadata": {
    "id": "aRRPi3VZaz9w"
   },
   "outputs": [],
   "source": [
    "# serialization: 어떤 데이터를 binary image로 바꿔주는 방식\n",
    "# 단, 대용량 데이터에 대해서는 적합하지 않음!\n",
    "# 대용량 데이터의 경우에는 .txt / .csv / .json 형식이 훨씬 효율적이다.\n",
    "import pickle\n",
    "\n",
    "# wb: write as binary\n",
    "with open(\"result.pk\", 'wb') as f:\n",
    "    pickle.dump(output, f)"
   ]
  },
  {
   "cell_type": "code",
   "execution_count": 43,
   "metadata": {},
   "outputs": [
    {
     "data": {
      "text/plain": [
       "['아이구\\n',\n",
       " '아이쿠\\n',\n",
       " '아이고\\n',\n",
       " '우리\\n',\n",
       " '저희\\n',\n",
       " '따라\\n',\n",
       " '의해\\n',\n",
       " '으로\\n',\n",
       " '에게\\n',\n",
       " '뿐이다\\n',\n",
       " '의거하여\\n',\n",
       " '근거하여\\n',\n",
       " '입각하여\\n',\n",
       " '기준으로\\n',\n",
       " '예하면\\n',\n",
       " '예를 들면\\n',\n",
       " '예를 들자면\\n']"
      ]
     },
     "execution_count": 43,
     "metadata": {},
     "output_type": "execute_result"
    }
   ],
   "source": [
    "with open(\"result.pk\", 'rb') as f:\n",
    "    output2 = pickle.load(f)\n",
    "    \n",
    "output2"
   ]
  },
  {
   "cell_type": "code",
   "execution_count": null,
   "metadata": {},
   "outputs": [],
   "source": []
  }
 ],
 "metadata": {
  "colab": {
   "collapsed_sections": [],
   "name": "Chapter.01 파이썬 프로그래밍-12. I/O (실습).ipynb",
   "provenance": []
  },
  "kernelspec": {
   "display_name": "Python 3 (ipykernel)",
   "language": "python",
   "name": "python3"
  },
  "language_info": {
   "codemirror_mode": {
    "name": "ipython",
    "version": 3
   },
   "file_extension": ".py",
   "mimetype": "text/x-python",
   "name": "python",
   "nbconvert_exporter": "python",
   "pygments_lexer": "ipython3",
   "version": "3.12.3"
  }
 },
 "nbformat": 4,
 "nbformat_minor": 1
}
