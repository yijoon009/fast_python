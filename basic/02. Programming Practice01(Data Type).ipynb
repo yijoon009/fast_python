{
 "cells": [
  {
   "cell_type": "markdown",
   "metadata": {
    "id": "40TSenF98KYO"
   },
   "source": [
    "### 문제 1.  학점계산기\n",
    "\n",
    "- 영희는 1학기 중간고사의 학점을 알고 싶다.\n",
    "- 영희가 중간고사 때 수강한 과목과 학점은 다음과 같다.\n",
    "\n",
    "| 글쓰기(3) | 미적분학I(3) | 영문법특강(2) | 컴퓨팅사고력(3) |\n",
    "| --- | --- | --- | --- |\n",
    "| A | C | B+ | A+ |\n",
    "\n",
    "- 과목이름 옆 괄호에 있는 숫자는 학점 수이고, 4.5만점 기준으로 성적이 계산된다.\n",
    "> e.g. <b>A+ : 4.5,   A : 4.0,   B+ : 3.5,   B : 3.0,   C+ : 2.5,   C : 2.0,   F : 0</b>\n",
    "\n",
    "- 계산 공식은 다음과 같다.\n",
    "> (3 x A + 3 x C + 2 x B+ + 3 x A+) / (3+3+2+3) = (3 x 4.5 + 3 x 2.0 + 2 x 3.5 + 3 x 4.0) / 11"
   ]
  },
  {
   "cell_type": "code",
   "execution_count": 24,
   "metadata": {
    "colab": {
     "base_uri": "https://localhost:8080/"
    },
    "executionInfo": {
     "elapsed": 982,
     "status": "ok",
     "timestamp": 1611193473413,
     "user": {
      "displayName": "김용담",
      "photoUrl": "https://lh3.googleusercontent.com/a-/AOh14GhcMg-SIyaynrayukkEBNN1b6rWweb-FXMnH7MT_xI=s64",
      "userId": "17630601608777393913"
     },
     "user_tz": -540
    },
    "id": "bOVhYEIF8KYQ",
    "outputId": "6f0ca1eb-4077-4277-b354-da67506a1ff4"
   },
   "outputs": [
    {
     "name": "stdout",
     "output_type": "stream",
     "text": [
      "3.5\n"
     ]
    }
   ],
   "source": [
    "# 문제1의 코드를 작성하세요.\n",
    "\n",
    "def calculate_grade(score):\n",
    "    if score == 'A+':\n",
    "        cal_score = 4.5\n",
    "    elif score == 'A':\n",
    "        cal_score = 4.0\n",
    "    elif score == 'B+':\n",
    "        cal_score = 3.5\n",
    "    elif score == 'B':\n",
    "        cal_score = 3.0\n",
    "    elif score == 'C+':\n",
    "        cal_score = 2.5\n",
    "    elif score == 'C':\n",
    "        cal_score = 2.0\n",
    "    else:\n",
    "        cal_score = 0\n",
    "    \n",
    "    return cal_score\n",
    "\n",
    "\n",
    "score_list = [(3, 'A'), (3, 'C'), (2, 'B+'), (3, 'A+')]\n",
    "\n",
    "bunja = 0\n",
    "bunmo = 0\n",
    "\n",
    "for score in score_list:\n",
    "\n",
    "    bunmo += score[0]\n",
    "    bunja += score[0] * calculate_grade(score[1])\n",
    "    \n",
    "print(bunja/bunmo)\n",
    "\n",
    "\n",
    "\n",
    "# subject-grade\n",
    "# subject-credit\n",
    "\n",
    "# (3 * 4.5 + 3 * 2.0 + 2 * 3.5 + 3 * 4.0) / (3 + 3 + 2 + 3)\n",
    "# subject_grade = {'글쓰기' : 4.0, '미적분학I' : 2.0, '영문법특강' : 3.5, \"컴퓨팅사고력\" : 4.5}\n",
    "# subject_credit = {'글쓰기' : 3, '미적분학I' : 3, '영문법특강' : 2, \"컴퓨팅사고력\" : 3}\n",
    "\n",
    "# total_score = (subject_credit['글쓰기'] * subject_grade['글쓰기']\n",
    "#                + subject_credit['미적분학I'] * subject_grade['미적분학I']\n",
    "#                + subject_credit['영문법특강'] * subject_grade['영문법특강']\n",
    "#                + subject_credit['컴퓨팅사고력'] * subject_grade['컴퓨팅사고력'])\n",
    "# total_credit = subject_credit['글쓰기'] + subject_credit['미적분학I'] + subject_credit['영문법특강'] + subject_credit['컴퓨팅사고력']\n",
    "\n",
    "# gpa =  total_score / total_credit\n",
    "# print(gpa)"
   ]
  },
  {
   "cell_type": "markdown",
   "metadata": {},
   "source": []
  },
  {
   "cell_type": "code",
   "execution_count": null,
   "metadata": {},
   "outputs": [],
   "source": []
  },
  {
   "cell_type": "markdown",
   "metadata": {
    "id": "igzFvEnV8KYQ"
   },
   "source": [
    "## 문제2. 십의 자리 구하기\n",
    "\n",
    "* 숫자 하나를 입력받는다. (단, 입력하는 숫자는 무조건 두 자리 이상의 자연수)\n",
    "* 입력 받은 숫자의 십의 자리 숫자를 출력한다."
   ]
  },
  {
   "cell_type": "code",
   "execution_count": 2,
   "metadata": {
    "colab": {
     "base_uri": "https://localhost:8080/"
    },
    "executionInfo": {
     "elapsed": 7184,
     "status": "ok",
     "timestamp": 1611194015909,
     "user": {
      "displayName": "김용담",
      "photoUrl": "https://lh3.googleusercontent.com/a-/AOh14GhcMg-SIyaynrayukkEBNN1b6rWweb-FXMnH7MT_xI=s64",
      "userId": "17630601608777393913"
     },
     "user_tz": -540
    },
    "id": "D8OeniNo8KYQ",
    "outputId": "efb570e1-0c36-4322-a693-14ff91538a5c"
   },
   "outputs": [
    {
     "name": "stdout",
     "output_type": "stream",
     "text": [
      "7\n"
     ]
    }
   ],
   "source": [
    "# 문제2의 코드를 작성하세요.\n",
    "number = input()\n",
    "print(number[-2])\n",
    "\n"
   ]
  },
  {
   "cell_type": "markdown",
   "metadata": {},
   "source": []
  },
  {
   "cell_type": "markdown",
   "metadata": {
    "id": "KvdFleK39uQt"
   },
   "source": [
    "## 문제3. 학습 결과 출력하기\n",
    "- 머신러닝에서는 모델이 학습을 하게 되면, 학습에 주어진 인자들을 가지고 어떤 결과가 나왔는지 출력을 하게 됩니다.\n",
    "\n",
    "- 주어진 인자를 해당 하는 자리에 위치하는 출력문을 작성해보세요.\n",
    "(각 용어의 의미는 현재 중요하지 않습니다.)\n",
    "\n",
    "\n",
    "- 다음은 출력문의 예시입니다.\n",
    "\n",
    "\n",
    "\"ResNet44 모델로 10 epoch를 돌려 학습시킨 결과는 학습 정확도 : 0.85, 검증 정확도 : 0.83, 테스트 정확도 : 0.76으로 나왔습니다\"\n",
    "\n",
    "\"U-Net 모델로 10000 epoch를 돌려 학습시킨 결과는 학습 정확도 0.87, 검증 정확도 : 0.5, 테스트 정확도 : 0.43으로 나왔습니다.\"\n"
   ]
  },
  {
   "cell_type": "code",
   "execution_count": 4,
   "metadata": {
    "colab": {
     "base_uri": "https://localhost:8080/"
    },
    "executionInfo": {
     "elapsed": 765,
     "status": "ok",
     "timestamp": 1611194877661,
     "user": {
      "displayName": "김용담",
      "photoUrl": "https://lh3.googleusercontent.com/a-/AOh14GhcMg-SIyaynrayukkEBNN1b6rWweb-FXMnH7MT_xI=s64",
      "userId": "17630601608777393913"
     },
     "user_tz": -540
    },
    "id": "Z1ilm1gW9tgA",
    "outputId": "afe79765-8543-40db-8102-797978deda6f"
   },
   "outputs": [
    {
     "name": "stdout",
     "output_type": "stream",
     "text": [
      "ResNet44 모델로 10 epoch를 돌려 학습시킨 결과는 학습 정확도: 0.85, 검증 정확도: 0.83, 테스트 정확도: 0.76으로 나왔습니다.\n",
      "ResNet44 모델로 10 epoch를 돌려 학습시킨 결과는 학습 정확도: 0.85, 검증 정확도: 0.83, 테스트 정확도: 0.76으로 나왔습니다.\n",
      "ResNet44 모델로 10 epoch를 돌려 학습시킨 결과는 학습 정확도: 0.85, 검증 정확도: 0.83, 테스트 정확도: 0.76으로 나왔습니다.\n"
     ]
    }
   ],
   "source": [
    "# 다음 주어진 변수를 활용하여 문제3의 코드를 작성하세요.\n",
    "epoch = 10\n",
    "train_accuracy = 0.85; val_accuracy = 0.83; test_accuracy = 0.76\n",
    "model_name = \"ResNet44\"\n",
    "\n",
    "\n",
    "# 가능하면 배웠던 3가지 케이스를 모두 사용해보세요;.\n",
    "# case1 %\n",
    "print('%s 모델로 %d epoch를 돌려 학습시킨 결과는 학습 정확도: %.2f, 검증 정확도: %.2f, 테스트 정확도: %.2f으로 나왔습니다.' % (model_name, epoch, train_accuracy, val_accuracy, test_accuracy))\n",
    "# case2\n",
    "print('{} 모델로 {} epoch를 돌려 학습시킨 결과는 학습 정확도: {}, 검증 정확도: {}, 테스트 정확도: {}으로 나왔습니다.'.format(model_name, epoch, train_accuracy, val_accuracy, test_accuracy))\n",
    "# case3\n",
    "print(f'{model_name} 모델로 {epoch} epoch를 돌려 학습시킨 결과는 학습 정확도: {train_accuracy}, 검증 정확도: {val_accuracy}, 테스트 정확도: {test_accuracy}으로 나왔습니다.')"
   ]
  },
  {
   "cell_type": "markdown",
   "metadata": {
    "id": "vSXP8EAx8KYS"
   },
   "source": [
    "## 문제4. 주민등록번호 가리기\n",
    "\n",
    "* 주민등록번호가 하나 주어집니다.\n",
    "* 요즘은 보안이 생명입니다. 뒤에 6자리를 *로 만들어서 소중한 정보를 지키세요!"
   ]
  },
  {
   "cell_type": "code",
   "execution_count": 30,
   "metadata": {
    "colab": {
     "base_uri": "https://localhost:8080/",
     "height": 35
    },
    "executionInfo": {
     "elapsed": 573,
     "status": "ok",
     "timestamp": 1611196302148,
     "user": {
      "displayName": "김용담",
      "photoUrl": "https://lh3.googleusercontent.com/a-/AOh14GhcMg-SIyaynrayukkEBNN1b6rWweb-FXMnH7MT_xI=s64",
      "userId": "17630601608777393913"
     },
     "user_tz": -540
    },
    "id": "F8O811Df8KYS",
    "outputId": "5ea2026a-97b0-4b99-c6c3-5ad6205709c6"
   },
   "outputs": [
    {
     "data": {
      "text/plain": [
       "'911210-1******'"
      ]
     },
     "execution_count": 30,
     "metadata": {},
     "output_type": "execute_result"
    }
   ],
   "source": [
    "# 문제4의 코드를 작성하세요. 밑의 4가지중 아무거나 사용하시면 됩니다.\n",
    "oldman_id = \"911210-1234567\"\n",
    "oldwoman_id = \"900101-2111111\"\n",
    "youngman_id = \"200112-3111111\"\n",
    "youngwoman_id = \"200112-4123987\"\n",
    "\n",
    "oldman_id.replace(oldman_id[-6:], '*'*6)\n",
    "oldman_id[:-6]+ '*'*6\n"
   ]
  },
  {
   "cell_type": "markdown",
   "metadata": {
    "id": "s9SaqFnX_Y_3"
   },
   "source": [
    "## 문제 5. 호텔 예약 관리하기\n",
    "\n",
    "- \"book\" 리스트에는 고객들이 예약한 방 번호가 순차적으로 기록됩니다.\n",
    "\n",
    "- 만약에 고객이 예약을 취소한 경우에 해당 방 번호는 리스트에서 제거됩니다.\n",
    "\n",
    "- 현재 예약된 방 번호는 [103, 205, 405] 입니다.\n",
    "\n",
    "- 어제 새롭게 예약된 방 번호가 107, 203, 304, 507 일 때의 예약 목록을 출력하는 코드를 작성해보세요.\n",
    "\n",
    "- 오늘 205호, 304호를 예약한 손님이 예약을 취소하였을 때의 예약 목록을 출력하는 코드를 작성해보세요."
   ]
  },
  {
   "cell_type": "code",
   "execution_count": 31,
   "metadata": {
    "colab": {
     "base_uri": "https://localhost:8080/"
    },
    "executionInfo": {
     "elapsed": 697,
     "status": "ok",
     "timestamp": 1611196708605,
     "user": {
      "displayName": "김용담",
      "photoUrl": "https://lh3.googleusercontent.com/a-/AOh14GhcMg-SIyaynrayukkEBNN1b6rWweb-FXMnH7MT_xI=s64",
      "userId": "17630601608777393913"
     },
     "user_tz": -540
    },
    "id": "zlLCHp2M_ZKg",
    "outputId": "36507f23-8da1-4675-e7c5-63e1f7557e8e"
   },
   "outputs": [
    {
     "name": "stdout",
     "output_type": "stream",
     "text": [
      "[103, 205, 405]\n",
      "[103, 205, 405, 107, 203, 304, 507]\n",
      "[103, 405, 107, 203, 507]\n"
     ]
    }
   ],
   "source": [
    "book = [103, 205, 405]\n",
    "\n",
    "# 어제 예약목록 출력\n",
    "print(book)\n",
    "\n",
    "# 오늘 예약목록 출력\n",
    "# book.append(107)\n",
    "# book.append(203)\n",
    "# book.append(304)\n",
    "# book.append(507)\n",
    "# book.extend([107, 203, 304, 507])\n",
    "\n",
    "book = book + [107, 203, 304, 507]\n",
    "\n",
    "print(book)\n",
    "\n",
    "# 오늘 205호, 304호 예약 취소\n",
    "book.remove(205)\n",
    "book.remove(304)\n",
    "print(book)"
   ]
  }
 ],
 "metadata": {
  "colab": {
   "collapsed_sections": [],
   "name": "02. Programming Practice(Data Type).ipynb",
   "provenance": []
  },
  "kernelspec": {
   "display_name": "Python 3 (ipykernel)",
   "language": "python",
   "name": "python3"
  },
  "language_info": {
   "codemirror_mode": {
    "name": "ipython",
    "version": 3
   },
   "file_extension": ".py",
   "mimetype": "text/x-python",
   "name": "python",
   "nbconvert_exporter": "python",
   "pygments_lexer": "ipython3",
   "version": "3.9.6"
  }
 },
 "nbformat": 4,
 "nbformat_minor": 1
}
