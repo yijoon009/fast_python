{
 "cells": [
  {
   "cell_type": "markdown",
   "metadata": {
    "id": "BXf2s1kTPPJH"
   },
   "source": [
    "## Data Types"
   ]
  },
  {
   "cell_type": "markdown",
   "metadata": {
    "id": "c52Pi1pmO5bJ"
   },
   "source": [
    "### 이번 실습에서는 다음 내용들을 배웁니다.\n",
    "\n",
    "\n",
    "- 프로그래밍 언어에서는 변수(Variable)에서 데이터를 저장/관리 하며 변수에 대한 개념을 통해 데이터를 사용할 수 있다.\n",
    "> \"변수\" 라는 개념을 통해 데이터를 사용할 수 있다.\n",
    "\n",
    "\n",
    "- data type을 배울 중요한 포인트는 어떤 연산을 사용할 수 있는지와 **연산결과가 어떤 의미인지**를 알아야한다.\n",
    "> \"Hello\" + \"World\" = ?"
   ]
  },
  {
   "cell_type": "markdown",
   "metadata": {
    "id": "od8Gim27O5bJ"
   },
   "source": [
    "### 변수(Variable)이란?"
   ]
  },
  {
   "cell_type": "markdown",
   "metadata": {
    "id": "MzQoEa7mO5bK"
   },
   "source": [
    "- 변수는 메모리에 데이터를 저장하기 위한 공간을 가리키는 말이며, 컴퓨터와 프로그래밍 언어 사용자간의 약속이다.\n",
    "> a : 컴퓨터와 사용자가 인식하는 특정 데이터를 저장하고 있는 공간이고, 공간의 이름을 a라고 한다.\n",
    "\n",
    "- 변수는 일종의 닉네임으로, 실제 물리적인 메모리 주소공간을 가리킨다.\n",
    "> 사용자는 변수의 이름으로 데이터를 인식하고, 컴퓨터는 변수의 주소로 데이터를 인식합니다.\n",
    "\n",
    "- 변수에 데이터를 저장할 때는 <kbd>=</kbd>를 사용한다. 이 때 <kbd>=</kbd>를 assignment operator라고 부른다.\n",
    "> a = 10 (a라는 공간에, 10이라는 데이터를 할당해주세요.)\n",
    "\n",
    "\n",
    "\n",
    "\n",
    "<b>(OPTIONAL)</b> a = 10을 예로 들었을 때, =을 기준으로 왼쪽을 lvalue라고 하며 실제 메모리 주소를 의미하고, =을 기준으로 오른쪽을 rvalue고 하며 실제 데이터(또는 값)을 의미한다."
   ]
  },
  {
   "cell_type": "code",
   "execution_count": 2,
   "metadata": {
    "id": "F0s-6hEpO5bK"
   },
   "outputs": [
    {
     "name": "stdout",
     "output_type": "stream",
     "text": [
      "10\n"
     ]
    }
   ],
   "source": [
    "# 변수 a에 10이라는 정수 데이터를 할당(assign)한다.\n",
    "a = 10\n",
    "b = 10\n",
    "\n",
    "print(a)"
   ]
  },
  {
   "cell_type": "code",
   "execution_count": 5,
   "metadata": {
    "id": "FQdBqboBO5bL"
   },
   "outputs": [
    {
     "name": "stdout",
     "output_type": "stream",
     "text": [
      "4304415312\n",
      "4304415312\n"
     ]
    }
   ],
   "source": [
    "# 파이썬에서 a라는 변수를 인식하고 있는 identifier.\n",
    "print(id(a))\n",
    "print(id(b))"
   ]
  },
  {
   "cell_type": "markdown",
   "metadata": {
    "id": "ucQuGoe7O5bL"
   },
   "source": [
    "### Q. 왜 data type은 여러가지 일까?\n",
    "\n",
    "- 다음 질문에 대해 생각해보자.\n",
    "\n",
    "\n",
    "> Q1. 컴퓨터는 정수와 실수를 어떻게 인식할까? (어떻게 구분할까)\n",
    "\n",
    "> Q2. 100개의 숫자를 한꺼번에 다루고 싶을 때 어떻게 해야할까?\n",
    "\n",
    "> Q3. 컴퓨터는 문자를 어떻게 인식할까?\n",
    "\n",
    "> Q4. 많은 데이터를 빠르게 찾아야 할때는 어떻게 저장할까?"
   ]
  },
  {
   "cell_type": "markdown",
   "metadata": {
    "id": "9j0fNF05O5bM"
   },
   "source": [
    "* 위 질문에 대한 대답을 data type을 배우면서 생각해봅시다."
   ]
  },
  {
   "cell_type": "markdown",
   "metadata": {
    "id": "kUVG00ytO5bM"
   },
   "source": [
    "### 1. 숫자 데이터 (Numeric Data Types)"
   ]
  },
  {
   "cell_type": "markdown",
   "metadata": {
    "id": "hKiQfQ6vO5bM"
   },
   "source": [
    "* 숫자형 데이터란, 정수/실수/복소수/2진수/8진수/16진수를 포함하며 가장 많이 사용하는 데이터 타입중에 하나다.\n",
    "\n",
    "\n",
    "* 파이썬은 숫자의 표현 범위가 무한대이다.\n",
    "\n",
    "\n",
    "* 숫자 데이터는 우리가 알고 있는 대부분의 연산을 그대로 지원한다. 사칙연산, 나머지 구하기, 몫 구하기, 거듭제곱 등"
   ]
  },
  {
   "cell_type": "markdown",
   "metadata": {
    "id": "Ue1a7W_oO5bM"
   },
   "source": [
    "### 정수형 (Integer) "
   ]
  },
  {
   "cell_type": "code",
   "execution_count": null,
   "metadata": {
    "id": "TghsqPsoO5bN"
   },
   "outputs": [],
   "source": []
  },
  {
   "cell_type": "code",
   "execution_count": null,
   "metadata": {
    "id": "Sf7fiNFdO5bN"
   },
   "outputs": [],
   "source": [
    "# a에 10, b에 5를 할당하고, a와 b를 더한 결과를 출력합니다.\n"
   ]
  },
  {
   "cell_type": "markdown",
   "metadata": {
    "id": "VKDvoyIEO5bN"
   },
   "source": [
    "### 실수형 (Floating point)"
   ]
  },
  {
   "cell_type": "code",
   "execution_count": null,
   "metadata": {
    "id": "toIzlNwyO5bN"
   },
   "outputs": [],
   "source": [
    "c = 3.14\n",
    "c"
   ]
  },
  {
   "cell_type": "code",
   "execution_count": null,
   "metadata": {
    "id": "pSFndmCQO5bN"
   },
   "outputs": [],
   "source": [
    "c + 3.14"
   ]
  },
  {
   "cell_type": "code",
   "execution_count": 6,
   "metadata": {
    "id": "gdVHPpLCO5bN"
   },
   "outputs": [
    {
     "data": {
      "text/plain": [
       "1e-07"
      ]
     },
     "execution_count": 6,
     "metadata": {},
     "output_type": "execute_result"
    }
   ],
   "source": [
    "# d에 4를 할당하고 c에서 d를 뺀 값을 출력합니다.\n",
    "0.000001\n",
    "1e-7\n",
    "0. # 소수 자리 수가 0\n",
    ".1 # 정수 자리 수가 0"
   ]
  },
  {
   "cell_type": "code",
   "execution_count": null,
   "metadata": {
    "id": "IyVfTQeJO5bO"
   },
   "outputs": [],
   "source": [
    "# 1.34 x 10^6을 의미한다.\n",
    "e = 1.34E6; e2 = 1.34e-3\n",
    "e, e2"
   ]
  },
  {
   "cell_type": "markdown",
   "metadata": {
    "id": "mQrRPuROO5bO"
   },
   "source": [
    "### 숫자형 데이터 타입이 제공하는 여러 연산자 "
   ]
  },
  {
   "cell_type": "markdown",
   "metadata": {
    "id": "-zHUSd6nO5bO"
   },
   "source": [
    "#### 사칙연산 "
   ]
  },
  {
   "cell_type": "code",
   "execution_count": null,
   "metadata": {
    "id": "iPhDG1xdO5bO"
   },
   "outputs": [],
   "source": [
    "# a에 10, b에 3을 할당하고 a와 b의 사칙연산 결과를 출력합니다. 이번에는 출력할때 print 함수를 사용합니다.\n"
   ]
  },
  {
   "cell_type": "code",
   "execution_count": 7,
   "metadata": {
    "id": "8WKGyBF2O5bO"
   },
   "outputs": [
    {
     "data": {
      "text/plain": [
       "-0.8599999999999999"
      ]
     },
     "execution_count": 7,
     "metadata": {},
     "output_type": "execute_result"
    }
   ],
   "source": [
    "# a에 10.3, b에 -1.6을 할당하고 사칙연산 결과를 출력합니다.\n",
    "3.14 - 4"
   ]
  },
  {
   "cell_type": "markdown",
   "metadata": {
    "id": "fD9S56U5O5bO"
   },
   "source": [
    "#### 특수연산 "
   ]
  },
  {
   "cell_type": "code",
   "execution_count": 8,
   "metadata": {
    "id": "8MH4qvbcO5bO"
   },
   "outputs": [
    {
     "name": "stdout",
     "output_type": "stream",
     "text": [
      "25\n",
      "2\n",
      "1\n"
     ]
    }
   ],
   "source": [
    "c = 5\n",
    "d = 2\n",
    "print(c ** d) # c를 d번 곱한 것. c^d\n",
    "print(c // d) # c를 d로 나눈 몫.\n",
    "print(c % d)  # c를 d로 나눈 나머지."
   ]
  },
  {
   "cell_type": "markdown",
   "metadata": {
    "id": "WJaUuYLKO5bP"
   },
   "source": [
    "### 2. 문자열(String)"
   ]
  },
  {
   "cell_type": "markdown",
   "metadata": {
    "id": "WBoG0tbDO5bP"
   },
   "source": [
    "* 문자열 데이터란, 문자(character)의 나열을 의미한다. e.g. \"Hello world\"\n",
    "> string ; Character Sequence\n",
    "\n",
    "* 파이썬에 다룰 수 있는 문자열의 크기도 제한이 없다.\n",
    "\n",
    "\n",
    "* 파이썬에선 <kbd>'</kbd>와 <kbd>\"</kbd> 두 가지의 기호를 통해 문자열을 나타낸다. 즉 ' 부터 ' 까지 또는 \" 부터 \" 까지 하나의 문자열이다.\n",
    "e.g. 'Hello', \"World\"\n",
    "\n",
    "\n",
    "* 컴퓨터는 문자(character)를 encoding하여 숫자로 표현한다. 알려진 예로 ASCII, utf-8, cp949가 있다.\n",
    "> 컴퓨터는 문자를 숫자로 인식한다. e.g. ASCII 코드로 변환하면 A->65, a->97\n",
    "\n",
    "* 현재 전세계적으로 웹에서 사용되는 국제 표준은 UTF-8(Universal code character set Transformation Format - 8-bit)이다.\n",
    "\n",
    " \n",
    "**(OPTIONAL)** UTF-8에선 a는 1바이트로, '가'는 3바이트로 인식한다. 이를 가변 인코딩 방식이라고 하며, 영어보다 한글이 더 많은 데이터를 필요로 한다."
   ]
  },
  {
   "cell_type": "markdown",
   "metadata": {
    "id": "qHEoFP-pO5bP"
   },
   "source": [
    "### 문자열을 만드는 여러가지 방법"
   ]
  },
  {
   "cell_type": "code",
   "execution_count": 9,
   "metadata": {
    "id": "-oOQRq7eO5bP"
   },
   "outputs": [],
   "source": [
    "s = 'hello'\n",
    "s = \"hello\""
   ]
  },
  {
   "cell_type": "code",
   "execution_count": 10,
   "metadata": {
    "id": "3dGKEoMNO5bP"
   },
   "outputs": [
    {
     "name": "stdout",
     "output_type": "stream",
     "text": [
      "i'm a boy\n"
     ]
    }
   ],
   "source": [
    "# 왜 파이썬은 \"\"와 ''를 모두 제공할까요?\n",
    "# 아래 s3와 s4를 문자열로 만들어서 출력해봅시다. \n",
    "print(\"i'm a boy\")\n",
    "\n"
   ]
  },
  {
   "cell_type": "markdown",
   "metadata": {
    "id": "1AweD9SxO5bP"
   },
   "source": [
    "### 문자열 연산하기 "
   ]
  },
  {
   "cell_type": "markdown",
   "metadata": {
    "id": "s-k21B8XO5bP"
   },
   "source": [
    "> 문자열의 사칙연산은 어떻게 정의될까? 숫자에선 당연했지만, 문자열의 더하기, 곱하기는 어떻게 정의되는지 잘 생각해보자."
   ]
  },
  {
   "cell_type": "code",
   "execution_count": null,
   "metadata": {
    "id": "nh4FOSObO5bP"
   },
   "outputs": [],
   "source": [
    "s = \"Hello\"\n",
    "s1 = \"World\"\n",
    "# Q. 가운데 빈 칸을 넣고 싶을 땐 어떻게 해야할까?\n"
   ]
  },
  {
   "cell_type": "code",
   "execution_count": null,
   "metadata": {
    "id": "qLYA1gZMO5bP"
   },
   "outputs": [],
   "source": [
    "s3 = \"Enjoy your life.\"\n",
    "\n",
    "# 문자열의 길이를 출력하는 함수 len() 을 통해 s3의 문자 갯수(문자열 길이)를 알아보자."
   ]
  },
  {
   "cell_type": "markdown",
   "metadata": {
    "id": "cWgqVLZXO5bP"
   },
   "source": [
    "### 문자열 Formatting "
   ]
  },
  {
   "cell_type": "markdown",
   "metadata": {
    "id": "PGMv_jyxO5bQ"
   },
   "source": [
    "- 문자열을 출력할 때(print 함수를 이용하여) 특정 format을 지정하고 싶은 경우에는 어떻게 해야할까?\n",
    "\n",
    "e.g. OOO님의 주민등록번호는 XXXXXXX-XXXXXXX입니다."
   ]
  },
  {
   "cell_type": "markdown",
   "metadata": {
    "id": "A2kUGXt_O5bQ"
   },
   "source": [
    "- 문자열 포맷에는 크게 3가지가 있다. (기호에 맞게 사용하면 됩니다)\n",
    "\n",
    "\n",
    "\n",
    "\"사과는 4개있다.\"\n",
    "\n",
    "\n",
    "\n",
    "1) print format 사용\n",
    "\n",
    "> print(\"%s는 %d개 있다.\" % (\"사과\", 4))\n",
    "\n",
    "2) str.format 함수 사용\n",
    "\n",
    "> print(\"{}는 {}개 있다.\".format(\"사과\", 4))\n",
    "\n",
    "3) f-string (**)\n",
    "\n",
    "> apple = \"사과\", count = 4\n",
    "\n",
    "> print(f\"{apple}는 {count}개 있다.\")"
   ]
  },
  {
   "cell_type": "code",
   "execution_count": 19,
   "metadata": {},
   "outputs": [],
   "source": [
    "phone = 'Galaxy S24 Ultra'\n",
    "usage = 80.333\n"
   ]
  },
  {
   "cell_type": "code",
   "execution_count": 24,
   "metadata": {
    "id": "ixF34wNSO5bQ"
   },
   "outputs": [
    {
     "name": "stdout",
     "output_type": "stream",
     "text": [
      "Galaxy S24 Ultra의 배터리가 80.33% 남았습니다.\n"
     ]
    }
   ],
   "source": [
    "# 1) print formatting\n",
    "print(\"%s의 배터리가 %.2f%% 남았습니다.\" % (phone, usage))"
   ]
  },
  {
   "cell_type": "code",
   "execution_count": 25,
   "metadata": {
    "id": "MJ_C5KOiO5bQ"
   },
   "outputs": [
    {
     "name": "stdout",
     "output_type": "stream",
     "text": [
      "Galaxy S24 Ultra의 배터리가 80.33% 남았습니다.\n"
     ]
    }
   ],
   "source": [
    "# 2) str.format\n",
    "print(\"{}의 배터리가 {:.2f}% 남았습니다.\".format(phone, usage))"
   ]
  },
  {
   "cell_type": "code",
   "execution_count": 26,
   "metadata": {
    "id": "7JivDd_8O5bQ"
   },
   "outputs": [
    {
     "name": "stdout",
     "output_type": "stream",
     "text": [
      "Galaxy S24 Ultra의 배터리가 80.33% 남았습니다.\n"
     ]
    }
   ],
   "source": [
    "# 3) f-string\n",
    "print(f\"{phone}의 배터리가 {usage:.2f}% 남았습니다.\")"
   ]
  },
  {
   "cell_type": "markdown",
   "metadata": {
    "id": "4rSJOOiHO5bQ"
   },
   "source": [
    "**Q. 개인정보를 사용자로부터 입력받아, 주민등록등본을 출력해주는 키오스크(Kiosk)용 프로그램을 제작하려고 한다. 입력받은 이름을 name이라는 변수에, 주민번호 앞자리를 id라는 변수에 입력받았다면, 주민등록등본에 어떻게 출력해야 할까?**"
   ]
  },
  {
   "cell_type": "markdown",
   "metadata": {
    "id": "tQpwvUV9O5bQ"
   },
   "source": [
    "### 문자열 관련 함수들 (**) "
   ]
  },
  {
   "cell_type": "markdown",
   "metadata": {
    "id": "-u0SpGEtO5bQ"
   },
   "source": [
    "#### 문자열  나누기 split()"
   ]
  },
  {
   "cell_type": "code",
   "execution_count": 27,
   "metadata": {
    "id": "SZQBDyq-O5bQ"
   },
   "outputs": [
    {
     "data": {
      "text/plain": [
       "['L', 'fe ', 's too short.']"
      ]
     },
     "execution_count": 27,
     "metadata": {},
     "output_type": "execute_result"
    }
   ],
   "source": [
    "s = \"Life is too short.\"\n",
    "s.split('i') # token"
   ]
  },
  {
   "cell_type": "markdown",
   "metadata": {
    "id": "MZU1RZ1hO5bQ"
   },
   "source": [
    "#### 문자열 바꾸기 replace() "
   ]
  },
  {
   "cell_type": "code",
   "execution_count": 33,
   "metadata": {},
   "outputs": [
    {
     "data": {
      "text/plain": [
       "'Lifeistooshort.'"
      ]
     },
     "execution_count": 33,
     "metadata": {},
     "output_type": "execute_result"
    }
   ],
   "source": [
    "s.replace('Life', 'this pencil')\n",
    "s.replace(' ', '')\n"
   ]
  },
  {
   "cell_type": "code",
   "execution_count": 34,
   "metadata": {
    "id": "6J8rlHsUO5bR"
   },
   "outputs": [
    {
     "data": {
      "text/plain": [
       "'Thispencilistooshort.'"
      ]
     },
     "execution_count": 34,
     "metadata": {},
     "output_type": "execute_result"
    }
   ],
   "source": [
    "s = \"Life is too short.\"\n",
    "# Life를 This pencil로 바꿔봅시다.\n",
    "s = s.replace(\"Life\", \"This pencil\")\n",
    "s.replace(\" \", \"\")"
   ]
  },
  {
   "cell_type": "markdown",
   "metadata": {
    "id": "LW2RBteKO5bR"
   },
   "source": [
    "### 3. 연속형 데이터 (Sequential Data Types)"
   ]
  },
  {
   "cell_type": "markdown",
   "metadata": {
    "id": "JkNakEHMO5bR"
   },
   "source": [
    "**Q. 숫자 100개를 한번에 다루려고 한다. <=> 하나의 변수에 숫자 100개를 저장하고 싶다. 어떻게 해야할까?**\n",
    "\n",
    "*A. 연속형 데이터 타입을 사용하자!*"
   ]
  },
  {
   "cell_type": "markdown",
   "metadata": {
    "id": "7559HElfO5bR"
   },
   "source": [
    "* 연속형 데이터란, 하나의 변수가 하나의 데이터를 가지고 있던 숫자형 데이터와 달리, 여러개의 데이터를 하나의 변수에 가지고 있는 데이터 타입이다.\n",
    "\n",
    "\n",
    "* 연속형 데이터 타입에는 리스트(List), 튜플(Tuple), 문자열(String)이 있다. (문자열을 문자들의 나열로 인식하기 때문에, 연속형 데이터이다.)\n",
    "\n",
    "\n",
    "* 연속형 데이터의 크기 제한은 없다. 하지만, 사용하는 컴퓨터의 가용 메모리 용량을 인지하며 사용해야 한다.\n",
    "\n",
    "\n",
    "* 각 연속형 데이터 타입마다 특징이 다르다. 그 특징을 파악하여 용도에 맞는 데이터 타입을 사용하는 것이 중요하다.\n",
    "\n",
    " \n",
    "**(OPTIONAL)** 사전(dictionary) 타입은 associative array라고 불리며, 흔히 알고있는 Hash table 구조이다."
   ]
  },
  {
   "cell_type": "markdown",
   "metadata": {
    "id": "os-yL_BHO5bR"
   },
   "source": [
    "### 3.1 리스트(List)\n",
    "\n",
    "\n",
    "* 가장 많이 사용되는 연속형 데이터 타입이자, 굉장히 유연한 구조를 가지고 있어 대부분의 데이터를 편하게 다룰 수 있다.\n",
    "\n",
    "\n",
    "* 파이썬에서 <kbd>[</kbd> 와 <kbd>]</kbd>를 이용하여 표현한다. e.g. [1, 2, 3]\n",
    "\n",
    "\n",
    "* 리스트의 원소는 쉼표로 구분되며, 리스트의 원소는 아무 데이터 타입이나 가능하다. 리스트조차 가능하다.\n",
    "\n",
    "\n",
    "* 리스트를 이용하면 파이썬에서 다루는 대부분의 데이터는 아무 무리없이 다룰 수 있다. 하지만 수정이 자유롭기 때문에 수정을 하면 안되는 경우에는 사용하면 안된다."
   ]
  },
  {
   "cell_type": "markdown",
   "metadata": {
    "id": "ABKeTlLYO5bR"
   },
   "source": [
    "### 리스트를 만드는 방법"
   ]
  },
  {
   "cell_type": "code",
   "execution_count": 35,
   "metadata": {
    "id": "UrivpymQO5bR"
   },
   "outputs": [
    {
     "data": {
      "text/plain": [
       "[1, 2, 3]"
      ]
     },
     "execution_count": 35,
     "metadata": {},
     "output_type": "execute_result"
    }
   ],
   "source": [
    "# 정수 1, 2, 3을 원소로 가지는 리스트를 만듭니다\n",
    "L = [1, 2, 3]\n",
    "L"
   ]
  },
  {
   "cell_type": "code",
   "execution_count": 36,
   "metadata": {
    "id": "73Rij4JPO5bS"
   },
   "outputs": [
    {
     "data": {
      "text/plain": [
       "[1, 'Hi', 3.14, [1, 2, 3]]"
      ]
     },
     "execution_count": 36,
     "metadata": {},
     "output_type": "execute_result"
    }
   ],
   "source": [
    "L3 = [1, \"Hi\", 3.14, [1, 2, 3]] # 리스트에는 다양한 타입의 원소를 다 포함할 수 있다. 심지어 리스트도.\n",
    "L3"
   ]
  },
  {
   "cell_type": "code",
   "execution_count": 37,
   "metadata": {
    "id": "4jNsNrMGO5bT"
   },
   "outputs": [
    {
     "data": {
      "text/plain": [
       "[[1, 2], [3, 4]]"
      ]
     },
     "execution_count": 37,
     "metadata": {},
     "output_type": "execute_result"
    }
   ],
   "source": [
    "L4 = [[1, 2],\n",
    "      [3, 4]] # 2x2 행렬 표현처럼 사용할 수 있다. 이를 2차원 리스트라고 한다.\n",
    "L4 # 실제로는 2개의 리스트를 원소로 가지는 리스트이다."
   ]
  },
  {
   "cell_type": "markdown",
   "metadata": {
    "id": "blBldhftO5bT"
   },
   "source": [
    "### Indexing (***) "
   ]
  },
  {
   "cell_type": "markdown",
   "metadata": {
    "id": "_hHSZLpAO5bT"
   },
   "source": [
    "- 연속형 데이터들은 하나의 변수에 여러가지 데이터를 가지기 때문에 여러 데이터를 접근하는 방법이 필요하다.\n",
    "\n",
    "\n",
    "- 이를 위해 indexing이라는 기법이 있다. 말그대로 index를 통해 접근(access)하는 방법이다.\n",
    "\n",
    "\n",
    "- 리스트의 index는 맨 앞부터 0으로 시작하며, 1씩 증가하는 정수 index를 사용한다.\n",
    "\n",
    "\n",
    "e.g. [1, 2, 3]이면 첫번째 원소는 index가 0이고, 두번째 원소는 index가 1이다.\n",
    "\n",
    "\n",
    "- 파이썬에서는 음수 index도 제공하는데, 이는 뒤쪽부터 접근할 수 있는 방법이다.\n",
    "\n",
    "e.g. [1, 2, 3]이면 뒤에서 첫번째(맨 마지막)원소는 index가 -1이고, 뒤에서 두번째 원소는 index가 -2이다.\n",
    "\n",
    "\n",
    "- index를 통해 접근하는 방법은 해당 변수이름에 []를 사용하며, []안에 index를 넣어서 접근할 수 있다.\n",
    "\n",
    "\n",
    "e.g L = [1, 2, 3]이면 L[0]은 1이고, L[2]는 L[-1]이며 3이다."
   ]
  },
  {
   "cell_type": "code",
   "execution_count": 38,
   "metadata": {
    "id": "FzFTyiA-O5bT"
   },
   "outputs": [
    {
     "data": {
      "text/plain": [
       "[1, 2, 3, 4, 5]"
      ]
     },
     "execution_count": 38,
     "metadata": {},
     "output_type": "execute_result"
    }
   ],
   "source": [
    "L = [1, 2, 3, 4, 5]\n",
    "L"
   ]
  },
  {
   "cell_type": "code",
   "execution_count": 45,
   "metadata": {
    "id": "gxSrbcxNO5bT"
   },
   "outputs": [
    {
     "data": {
      "text/plain": [
       "5"
      ]
     },
     "execution_count": 45,
     "metadata": {},
     "output_type": "execute_result"
    }
   ],
   "source": [
    "# L의 첫번째 원소\n",
    "len(L)\n",
    "L[len(L)-1]  # 리스트의 마지막 원소\n",
    "L[-1]"
   ]
  },
  {
   "cell_type": "code",
   "execution_count": 46,
   "metadata": {
    "id": "378XiRuQO5bT"
   },
   "outputs": [
    {
     "data": {
      "text/plain": [
       "3"
      ]
     },
     "execution_count": 46,
     "metadata": {},
     "output_type": "execute_result"
    }
   ],
   "source": [
    "# indexing을 이용한 연산. L의 첫번째, 두번째 원소를 가져다가 더해봅니다.\n",
    "L[0] + L[1]"
   ]
  },
  {
   "cell_type": "markdown",
   "metadata": {
    "id": "3_ZBWbikO5bT"
   },
   "source": [
    "### Slicing (**) "
   ]
  },
  {
   "cell_type": "markdown",
   "metadata": {
    "id": "PZlc4UUBO5bT"
   },
   "source": [
    "**슬라이싱은 리스트에서 뿐만 아니라, 리스트와 비슷한 구조인 numpy array와 pandas series, dataframe에서도 많이 이용되니 꼭 알아두어야 한다.**\n",
    "\n",
    "- 슬라이싱은 리스트의 일부분만 잘라낸다는 의미이다. (말그대로 슬라이싱)\n",
    "\n",
    "\n",
    "- 리스트의 일부만 사용하고 싶을 때 쓰는 기법이며, indexing을 범위로 하는 느낌이다.\n",
    "\n",
    "\n",
    "- 리스트의 index와 <kbd>:</kbd>를 사용하여 슬라이싱을 할 수 있다.\n",
    "\n",
    "\n",
    "e.g. L = [1, 2, 3, 4]  L[0:2]는 [1, 2]이다."
   ]
  },
  {
   "cell_type": "code",
   "execution_count": 47,
   "metadata": {
    "id": "1OqHz12HO5bT"
   },
   "outputs": [
    {
     "data": {
      "text/plain": [
       "[1, 2, 3, 4, 5]"
      ]
     },
     "execution_count": 47,
     "metadata": {},
     "output_type": "execute_result"
    }
   ],
   "source": [
    "L = [1, 2, 3, 4, 5]\n",
    "L"
   ]
  },
  {
   "cell_type": "code",
   "execution_count": 64,
   "metadata": {
    "id": "MS2pl9GrO5bT"
   },
   "outputs": [
    {
     "data": {
      "text/plain": [
       "[2, 3, 4]"
      ]
     },
     "execution_count": 64,
     "metadata": {},
     "output_type": "execute_result"
    }
   ],
   "source": [
    "# L의 첫번째부터 index2 까지 자르기 -> 뒤의 원소를 포함하지 않는다.\n",
    "L[:3]\n",
    "# 두번째부터 네번째까지\n",
    "L[1:3]\n",
    "\n",
    "# 첫번째부터 여섯번째까지 자르기 0 <= i < 6을 계산한 다음에 여기에 '포함되는' index들을 뽑아준다.\n",
    "L[0:6]\n",
    "\n",
    "L[1:-1]\n"
   ]
  },
  {
   "cell_type": "code",
   "execution_count": 70,
   "metadata": {},
   "outputs": [
    {
     "data": {
      "text/plain": [
       "' world'"
      ]
     },
     "execution_count": 70,
     "metadata": {},
     "output_type": "execute_result"
    }
   ],
   "source": [
    "# L[start:end:step]\n",
    "L[0:10:2]\n",
    "\n",
    "\n",
    "s = 'hello world'\n",
    "# s에서 첫번째 글자부터 뒤에서 두번째 글자까지 슬라이싱\n",
    "s[0:-1]\n",
    "s[:-1]\n",
    "\n",
    "# 6번째 글자부터 마지막까지\n",
    "s[5:]\n",
    "s[5:len(s)]     # stop을 생략하면 len(s)가 들어간다.\n"
   ]
  },
  {
   "cell_type": "markdown",
   "metadata": {
    "id": "ig4oHs4aO5bT"
   },
   "source": [
    "> **TIP!**\n",
    "> 문자열도 연속형 데이터 타입이기 때문에, indexing과 slicing이 다 된다. 하나의 문자열을 생성하여 연습해보자."
   ]
  },
  {
   "cell_type": "markdown",
   "metadata": {
    "id": "gQ0RnQTyO5bT"
   },
   "source": [
    "### 리스트 연산하기 "
   ]
  },
  {
   "cell_type": "markdown",
   "metadata": {
    "id": "LHdtLz6NO5bT"
   },
   "source": [
    "> 문자열때와 마찬가지로, 리스트도 더하기, 곱하기 연산이 존재한다. 어떤 의미일지 생각해보자."
   ]
  },
  {
   "cell_type": "markdown",
   "metadata": {
    "id": "1CtZ_VBtO5bT"
   },
   "source": [
    "#### 리스트 더하기 "
   ]
  },
  {
   "cell_type": "code",
   "execution_count": 71,
   "metadata": {
    "id": "Equgw2ZSO5bU"
   },
   "outputs": [
    {
     "data": {
      "text/plain": [
       "[1, 2, 3, 4, 5]"
      ]
     },
     "execution_count": 71,
     "metadata": {},
     "output_type": "execute_result"
    }
   ],
   "source": [
    "L = [1, 2, 3]\n",
    "L2 = [4, 5]\n",
    "L + L2  # concatenation"
   ]
  },
  {
   "cell_type": "markdown",
   "metadata": {
    "id": "UARWRpFYO5bU"
   },
   "source": [
    "#### 리스트 곱하기 "
   ]
  },
  {
   "cell_type": "code",
   "execution_count": 74,
   "metadata": {
    "id": "lZ11YpNDO5bU"
   },
   "outputs": [
    {
     "data": {
      "text/plain": [
       "[1, 2, 3, 1, 2, 3, 1, 2, 3]"
      ]
     },
     "execution_count": 74,
     "metadata": {},
     "output_type": "execute_result"
    }
   ],
   "source": [
    "L * 3\n"
   ]
  },
  {
   "cell_type": "markdown",
   "metadata": {
    "id": "nVrcWi-5O5bU"
   },
   "source": [
    "#### 리스트 수정하기 (**)"
   ]
  },
  {
   "cell_type": "code",
   "execution_count": 80,
   "metadata": {
    "id": "f_K76xFOO5bU"
   },
   "outputs": [
    {
     "data": {
      "text/plain": [
       "[1, 2, 3, 4, 5]"
      ]
     },
     "execution_count": 80,
     "metadata": {},
     "output_type": "execute_result"
    }
   ],
   "source": [
    "L = [1, 2, 3, 4, 5]\n",
    "\n",
    "L2 = L      # 원본을 복사한게 아니다. shallow copy\n",
    "L2 = L.copy()   # depp copy\n",
    "\n",
    "L2[0] = 9\n",
    "L"
   ]
  },
  {
   "cell_type": "code",
   "execution_count": 81,
   "metadata": {
    "id": "HTG76zhDO5bU"
   },
   "outputs": [
    {
     "data": {
      "text/plain": [
       "[1, 2, 3, 4, 5, 9, 2, 3, 4, 5]"
      ]
     },
     "execution_count": 81,
     "metadata": {},
     "output_type": "execute_result"
    }
   ],
   "source": [
    "L + L2 # 값이 바뀐게 적용이 됩니다."
   ]
  },
  {
   "cell_type": "markdown",
   "metadata": {
    "id": "2HLcrOrWO5bU"
   },
   "source": [
    "### 리스트 관련 함수"
   ]
  },
  {
   "cell_type": "markdown",
   "metadata": {
    "id": "MXnDClEoO5bU"
   },
   "source": [
    "#### 리스트에 원소 추가하기 append() (***)"
   ]
  },
  {
   "cell_type": "code",
   "execution_count": 88,
   "metadata": {
    "id": "I_rcj11JO5bU"
   },
   "outputs": [
    {
     "data": {
      "text/plain": [
       "[3, 1, 2]"
      ]
     },
     "execution_count": 88,
     "metadata": {},
     "output_type": "execute_result"
    }
   ],
   "source": [
    "# 빈 리스트 L을 만들어서 3, 2, 1 순서대로 원소를 추가해봅니다.\n",
    "L = []\n",
    "L.append(3)     # 마지막에 () 값 추가\n",
    "L.append(2)\n",
    "L.insert(1, 1)\n",
    "L.insert(1, 'a')\n",
    "# L.append(1)\n",
    "L\n",
    "\n",
    "## 원소 삭제\n",
    "# L.pop()\n",
    "\n",
    "# 해당 리스트의 특정 위치의 원소를 제거\n",
    "# L.pop(1)\n",
    "\n",
    "# 해당 리스트의 특정 원소를 제거\n",
    "L.remove('a')\n",
    "L"
   ]
  },
  {
   "cell_type": "markdown",
   "metadata": {
    "id": "zwULKLqFO5bU"
   },
   "source": [
    "#### 리스트 원소 정렬하기 sort() "
   ]
  },
  {
   "cell_type": "code",
   "execution_count": 90,
   "metadata": {
    "id": "N-wHarP8O5bU"
   },
   "outputs": [
    {
     "data": {
      "text/plain": [
       "[3, 4, 16]"
      ]
     },
     "execution_count": 90,
     "metadata": {},
     "output_type": "execute_result"
    }
   ],
   "source": [
    "# sort()를 이용해 L을 정렬합니다.\n",
    "L = [4, 3, 16]\n",
    "L.sort()    # L 자체가 정렬됨.\n",
    "sorted(L)   # L을 정렬한 결과를 보여준다"
   ]
  },
  {
   "cell_type": "markdown",
   "metadata": {
    "id": "C4AL1DPGO5bU"
   },
   "source": [
    "### 3.2 튜플(Tuple)\n",
    "\n",
    "- tuple은 list과 거의 같다.\n",
    "> indexing, slicing 모두 동일하게 사용 가능하다.\n",
    "> 원소들도 자유롭게 사용 가능하다.\n",
    "\n",
    "- 거의 같은데, 다른 점이 딱 2가지 있다.\n",
    "\n",
    "\n",
    "\n",
    "\n",
    "**1) 리스트는 []를 사용하고, 튜플은 ()을 사용한다.**\n",
    "\n",
    "**2) 리스트는 생성 후에 변경이 가능하고(mutable) 튜플은 생성 후에 변경이 불가능하다.(immutable)**\n",
    "\n",
    "> Mutable : 생성된 이후에 변경(assignment)이 자유롭게 가능한 data type.\n",
    "e.g. List, dict, set\n",
    "\n",
    "> immutable : 생성된 이후에 변경이 불가능한 data type\n",
    "e.g. int, float, string, tuple, frozenset\n",
    "\n",
    "\n",
    "> 1. 성능적인 이슈 -> 변경되지는 않는 그 자체로 장점이 생김.\n",
    "\n",
    "> 2. 프로그래밍적인 이슈 -> 데이터 수정 자체를 하지 않는 경우 실수를 방지할 수 있다."
   ]
  },
  {
   "cell_type": "code",
   "execution_count": 92,
   "metadata": {
    "id": "wBWB8hI-O5bU"
   },
   "outputs": [
    {
     "data": {
      "text/plain": [
       "(1, 2, 'a', [1, 2, 3], ('a', 'ab'))"
      ]
     },
     "execution_count": 92,
     "metadata": {},
     "output_type": "execute_result"
    }
   ],
   "source": [
    "# 1, 2를 원소로 가지는 tuple을 생성해 봅니다.\n",
    "t = (1, 2, 'a', [1,2,3], ('a','ab'))\n",
    "t"
   ]
  },
  {
   "cell_type": "code",
   "execution_count": 94,
   "metadata": {
    "id": "jsJjxFqAO5bU"
   },
   "outputs": [
    {
     "ename": "TypeError",
     "evalue": "'tuple' object does not support item assignment",
     "output_type": "error",
     "traceback": [
      "\u001b[0;31m---------------------------------------------------------------------------\u001b[0m",
      "\u001b[0;31mTypeError\u001b[0m                                 Traceback (most recent call last)",
      "Cell \u001b[0;32mIn[94], line 1\u001b[0m\n\u001b[0;32m----> 1\u001b[0m \u001b[43mt\u001b[49m\u001b[43m[\u001b[49m\u001b[38;5;241;43m0\u001b[39;49m\u001b[43m]\u001b[49m \u001b[38;5;241m=\u001b[39m \u001b[38;5;241m3\u001b[39m \u001b[38;5;66;03m# 튜플의 원소를 변경해보자.\u001b[39;00m\n\u001b[1;32m      3\u001b[0m s \u001b[38;5;241m=\u001b[39m \u001b[38;5;124m'\u001b[39m\u001b[38;5;124mhello\u001b[39m\u001b[38;5;124m'\u001b[39m\n\u001b[1;32m      4\u001b[0m s[\u001b[38;5;241m0\u001b[39m] \u001b[38;5;241m=\u001b[39m \u001b[38;5;124m'\u001b[39m\u001b[38;5;124ma\u001b[39m\u001b[38;5;124m'\u001b[39m\n",
      "\u001b[0;31mTypeError\u001b[0m: 'tuple' object does not support item assignment"
     ]
    }
   ],
   "source": [
    "t[0] = 3 # 튜플의 원소를 변경해보자.\n",
    "\n",
    "s = 'hello'\n",
    "s[0] = 'a'"
   ]
  },
  {
   "cell_type": "code",
   "execution_count": 95,
   "metadata": {
    "id": "mVCdo2QZO5bV"
   },
   "outputs": [
    {
     "data": {
      "text/plain": [
       "(1, 2, 3, 4)"
      ]
     },
     "execution_count": 95,
     "metadata": {},
     "output_type": "execute_result"
    }
   ],
   "source": [
    "# 그럼 tuple의 더하기, 곱하기는 어떻게 될까?\n",
    "t = (1, 2)\n",
    "t2 = (3, 4)\n",
    "t + t2"
   ]
  },
  {
   "cell_type": "markdown",
   "metadata": {
    "id": "RMSt8JFyO5bV"
   },
   "source": [
    "### 3.3 집합(Set)\n",
    "\n",
    "- 집합 자료형은 정말 말그대로 수학에서 배우는 집합 그 자체이다.\n",
    "\n",
    "\n",
    "- 수학에서는 집합을 {}로 표시했지만, 파이썬에서는 안타까운 이유로 {}를 사용하긴 하는데 그냥 사용할 수는 없다. 왜냐면 사전(Dictionary) 자료형도 {}를 사용하기 때문이다. 이에 대해서는 뒤에 자세히 배운다.\n",
    "\n",
    "\n",
    "- 공집합을 생성할 때는 *반드시* set()으로 생성해야 한다. {}로 생성하면 빈 사전이 생성된다.\n",
    "\n",
    "\n",
    "e.g. {1, 2, 3} : 집합, {'a':1, 'b':2} : 사전\n",
    "\n",
    "\n",
    "- 집합의 연산자인 교집합, 합집합, 차집합을 모두 지원한다.\n",
    "\n",
    "- 집합의 특징이 2가지 있는데, 이 특징이 리스트와의 차이점이라 사용한다. 첫번째 특징이 집합 자료형을 사용하는 주된 이유이다.\n",
    "\n",
    "1) 집합은 원소의 중복을 허용하지 않는다. 즉, **원소의 종류**를 나타내기 좋다.\n",
    "\n",
    "2) 집합은 원소의 순서가 존재하지 않는다. 즉, 원소의 index가 없다."
   ]
  },
  {
   "cell_type": "code",
   "execution_count": 96,
   "metadata": {
    "id": "ugViYdbVO5bV"
   },
   "outputs": [
    {
     "data": {
      "text/plain": [
       "({1, 2, 3}, set)"
      ]
     },
     "execution_count": 96,
     "metadata": {},
     "output_type": "execute_result"
    }
   ],
   "source": [
    "# 1, 2, 3을 원소로 가지는 집합을 만들어 봅시다.\n",
    "s = {1, 2, 3}\n",
    "s, type(s)"
   ]
  },
  {
   "cell_type": "code",
   "execution_count": 97,
   "metadata": {
    "id": "dBDYK_ohO5bV"
   },
   "outputs": [
    {
     "ename": "TypeError",
     "evalue": "'set' object is not subscriptable",
     "output_type": "error",
     "traceback": [
      "\u001b[0;31m---------------------------------------------------------------------------\u001b[0m",
      "\u001b[0;31mTypeError\u001b[0m                                 Traceback (most recent call last)",
      "Cell \u001b[0;32mIn[97], line 1\u001b[0m\n\u001b[0;32m----> 1\u001b[0m \u001b[43ms\u001b[49m\u001b[43m[\u001b[49m\u001b[38;5;241;43m1\u001b[39;49m\u001b[43m]\u001b[49m \u001b[38;5;66;03m# 2가 나올것 같지만...\u001b[39;00m\n",
      "\u001b[0;31mTypeError\u001b[0m: 'set' object is not subscriptable"
     ]
    }
   ],
   "source": [
    "s[1] # 2가 나올것 같지만..."
   ]
  },
  {
   "cell_type": "markdown",
   "metadata": {
    "id": "WmGyeSuhO5bV"
   },
   "source": [
    "### 집합의 연산"
   ]
  },
  {
   "cell_type": "code",
   "execution_count": 98,
   "metadata": {
    "id": "LSFUeMa9O5bV"
   },
   "outputs": [],
   "source": [
    "s1 = {1, 2, 3, 4, 5}\n",
    "s2 = {3, 4, 5, 6, 7}"
   ]
  },
  {
   "cell_type": "markdown",
   "metadata": {
    "id": "WnrDIPZrO5bV"
   },
   "source": [
    "#### 교집합, 합집합, 차집합"
   ]
  },
  {
   "cell_type": "code",
   "execution_count": 104,
   "metadata": {
    "id": "mPEfrsc4O5bV"
   },
   "outputs": [
    {
     "name": "stdout",
     "output_type": "stream",
     "text": [
      "{3, 4, 5}\n",
      "{1, 2, 3, 4, 5, 6, 7}\n",
      "set()\n"
     ]
    }
   ],
   "source": [
    "# 교집합\n",
    "print(s1 & s2 )\n",
    "# 합집합\n",
    "print(s1 | s2)\n",
    "# 차집합\n",
    "print(s2 - s2)"
   ]
  },
  {
   "cell_type": "markdown",
   "metadata": {
    "id": "7hOIQgpFO5bV"
   },
   "source": [
    "### 집합의 원소의 uniqueness를 활용하는 경우. (**)"
   ]
  },
  {
   "cell_type": "code",
   "execution_count": 106,
   "metadata": {
    "id": "HqySSPBvO5bV"
   },
   "outputs": [
    {
     "data": {
      "text/plain": [
       "{1, 2, 3, 4, 5, 6}"
      ]
     },
     "execution_count": 106,
     "metadata": {},
     "output_type": "execute_result"
    }
   ],
   "source": [
    "L = [1, 1, 2, 2, 3, 3, 3, 3, 4, 5, 6, 7]\n",
    "L2 = [1, 8, 10, 1, 2, 3, 3, 4, 1, 5, 6]\n",
    "# L과 L2에 겹치는 숫자를 찾아주세요.\n",
    "\n",
    "set(L) & set(L2)"
   ]
  },
  {
   "cell_type": "markdown",
   "metadata": {
    "id": "OcKajPQpO5bW"
   },
   "source": [
    "### 4. 사전(Dictionary) (**)\n",
    "\n",
    "\n",
    "\n",
    "**파이썬에서 리스트와 함께 굉장히 많이 사용되는 구조. 특히 이번 교육과정 중에 많이 사용되니 꼭 마스터하는 것을 추천한다.**\n",
    "\n",
    "\n",
    "- 파이썬에서 제공하는 사전 자료형은 key - value 방법을 통해 저장한다.\n",
    "\n",
    "| name | code |\n",
    "| --- | --- |\n",
    "| \"John\" | 0011 |\n",
    "| \"Maria\" | 1234 |\n",
    "\n",
    "\n",
    "- 이런 table concept을 의미하며, 정수 index가 아닌 key값을 통해서 value를 access한다.\n",
    "\n",
    "> key-value 방식으로 저장을 하는 것으로 얻는 이점은?\n",
    "\n",
    "> A. 순서가 아닌 의미가 있는 값을 통해서 데이터 접근이 가능하다.\n",
    "\n",
    "- 같은 말로 Hash Table이라고 불리며 데이터 관리에서 굉장히 중요한 개념이다.\n",
    "\n",
    "\n",
    "- 파이썬에서 사전 자료형은 {}을 이용하여 표현하는데, 집합과의 차이점을 두기 위해 원소에 *반드시* <kbd>:</kbd>가 들어가야 한다.\n",
    "\n",
    "\n",
    "- 사전을 표현할 때는 {key : value, key2 : value2, ... } 형태로 표현한다.\n",
    "\n",
    "e.g. {'a' : 1', \"b\" : 3}"
   ]
  },
  {
   "cell_type": "markdown",
   "metadata": {
    "id": "I5tpF-GuO5bW"
   },
   "source": [
    "### 사전을 만드는 방법"
   ]
  },
  {
   "cell_type": "code",
   "execution_count": 116,
   "metadata": {
    "id": "mtQP3IhaO5bW"
   },
   "outputs": [
    {
     "data": {
      "text/plain": [
       "{'a': 5}"
      ]
     },
     "execution_count": 116,
     "metadata": {},
     "output_type": "execute_result"
    }
   ],
   "source": [
    "D = {'a' : 1, 'b' : 5}\n",
    "D.get('a')\n",
    "\n",
    "Ds = {1: 1, 2: 3}\n",
    "Ds\n",
    "\n",
    "# key는 unique해야한다. 동일한 key가 있다면 나중에 추가되는 key:value pair로 overwrite된다.\n",
    "Dn = {'a': 1, 'a': 5}\n",
    "Dn"
   ]
  },
  {
   "cell_type": "code",
   "execution_count": 118,
   "metadata": {
    "id": "kiYvkSfLO5bW"
   },
   "outputs": [
    {
     "data": {
      "text/plain": [
       "1234"
      ]
     },
     "execution_count": 118,
     "metadata": {},
     "output_type": "execute_result"
    }
   ],
   "source": [
    "# 위에 나온 테이블 예시를 사전으로 만들어봅니다.\n",
    "D = {\"John\" : '0011', \"Maria\" : 1234}\n",
    "D['Maria']"
   ]
  },
  {
   "cell_type": "code",
   "execution_count": null,
   "metadata": {},
   "outputs": [],
   "source": [
    "L = [1, 2, 3]\n",
    "L[4] = 3"
   ]
  },
  {
   "cell_type": "code",
   "execution_count": 120,
   "metadata": {
    "id": "MJWxWTZeO5bW"
   },
   "outputs": [
    {
     "data": {
      "text/plain": [
       "{'John': '0011', 'Maria': 1234, 'a': 5}"
      ]
     },
     "execution_count": 120,
     "metadata": {},
     "output_type": "execute_result"
    }
   ],
   "source": [
    "# 사전 D에 key가 'a'이고 value가 3인 원소를 추가하자.\n",
    "D[\"a\"] = 3  # 'a':3을 D에 추가\n",
    "D['a'] = 5  # key가 'a'인 value를 5로 update.\n",
    "D"
   ]
  },
  {
   "cell_type": "code",
   "execution_count": 121,
   "metadata": {
    "id": "fQjnyillO5bW"
   },
   "outputs": [
    {
     "data": {
      "text/plain": [
       "5"
      ]
     },
     "execution_count": 121,
     "metadata": {},
     "output_type": "execute_result"
    }
   ],
   "source": [
    "D[\"a\"] # key값이 이미 존재하는 경우에는 key값을 통한 indexing이 되며, key값이 존재하지 않을 때는 assignment를 사용하여 원소를 추가한다."
   ]
  },
  {
   "cell_type": "code",
   "execution_count": 122,
   "metadata": {
    "id": "-TTBHEUYO5bW"
   },
   "outputs": [
    {
     "data": {
      "text/plain": [
       "{'a': -3, 'b': 3, 'z': 3.14, 'p': 100, (1, 2): 3.14, 1: 1}"
      ]
     },
     "execution_count": 122,
     "metadata": {},
     "output_type": "execute_result"
    }
   ],
   "source": [
    "D2 = {'a' : 400, 'a' : -3, 'b': 3,\n",
    "      'z' : 3.14, 'p' : 100, (1, 2) : 3.14,\n",
    "     1 : 1} # 무엇이 문제일까?\n",
    "D2"
   ]
  },
  {
   "cell_type": "markdown",
   "metadata": {
    "id": "bS4jvsvKO5bW"
   },
   "source": [
    "> **TIP** 사전을 만들 때 key는 중복이 있으면 절대 안된다.\n",
    "\n",
    "> 사전에서 key가 될 수 있는 data type은 **immutable**이어야 한다.\n",
    ">> int, float, str, tuple"
   ]
  },
  {
   "cell_type": "markdown",
   "metadata": {
    "id": "xvva48l5O5bW"
   },
   "source": [
    "### 사전 관련 함수"
   ]
  },
  {
   "cell_type": "markdown",
   "metadata": {
    "id": "AuiC0cXuO5bW"
   },
   "source": [
    "#### 사전의 모든 key값들 보기 keys()"
   ]
  },
  {
   "cell_type": "code",
   "execution_count": 123,
   "metadata": {
    "id": "XeYkcSA_O5bW"
   },
   "outputs": [
    {
     "data": {
      "text/plain": [
       "dict_keys(['name', 'phone', 'birth'])"
      ]
     },
     "execution_count": 123,
     "metadata": {},
     "output_type": "execute_result"
    }
   ],
   "source": [
    "D = {'name': 'kim', 'phone': '01012345679', 'birth': '1234'}\n",
    "D.keys()    # 출력문이 list처럼 생겼지만 list는 아니다."
   ]
  },
  {
   "cell_type": "markdown",
   "metadata": {
    "id": "qzv5wDxPO5bW"
   },
   "source": [
    "#### 사전의 모든 value들 보기 values()"
   ]
  },
  {
   "cell_type": "code",
   "execution_count": 124,
   "metadata": {
    "id": "E6TL46qWO5bW"
   },
   "outputs": [
    {
     "data": {
      "text/plain": [
       "dict_values(['kim', '01012345679', '1234'])"
      ]
     },
     "execution_count": 124,
     "metadata": {},
     "output_type": "execute_result"
    }
   ],
   "source": [
    "D.values()"
   ]
  },
  {
   "cell_type": "markdown",
   "metadata": {
    "id": "wYi8lJzZO5bW"
   },
   "source": [
    "#### 사전의 모든 key, value 쌍 보기 items()"
   ]
  },
  {
   "cell_type": "code",
   "execution_count": 125,
   "metadata": {
    "id": "S1MvTj0ZO5bW"
   },
   "outputs": [
    {
     "data": {
      "text/plain": [
       "dict_items([('name', 'kim'), ('phone', '01012345679'), ('birth', '1234')])"
      ]
     },
     "execution_count": 125,
     "metadata": {},
     "output_type": "execute_result"
    }
   ],
   "source": [
    "D.items()"
   ]
  },
  {
   "cell_type": "markdown",
   "metadata": {
    "id": "KbvtmF_RO5bX"
   },
   "source": [
    "#### 사전의 원소 가져오기 get()"
   ]
  },
  {
   "cell_type": "code",
   "execution_count": 129,
   "metadata": {
    "id": "RzEoscRHO5bX"
   },
   "outputs": [
    {
     "name": "stdout",
     "output_type": "stream",
     "text": [
      "None\n"
     ]
    }
   ],
   "source": [
    "# D['name']과 같다.\n",
    "D.get('height', 0)  # key값이 height인 value를 가져오는데, 없으면 0\n",
    "print(D.get('height'))"
   ]
  },
  {
   "cell_type": "markdown",
   "metadata": {
    "id": "PgZpX_dXO5bX"
   },
   "source": [
    "### Sequence에 해당 데이터가 존재하는지 확인하기 : `in` operator\n",
    "\n",
    "\n",
    "- in이라는 operator는 모든 연속형 데이터 타입에 사용할 수 있다.\n",
    "\n",
    "\n",
    "- 사전의 경우에는 key값을 대상으로 하고, 리스트, 튜플, 집합, 문자열에 대해서는 해당 원소가 존재하는지 찾아서 True / False 를 알려준다."
   ]
  },
  {
   "cell_type": "code",
   "execution_count": 132,
   "metadata": {
    "id": "Sx2dWMd5O5bX"
   },
   "outputs": [
    {
     "name": "stdout",
     "output_type": "stream",
     "text": [
      "{'name': 'kim', 'phone': '01012345679', 'birth': '1234'}\n"
     ]
    },
    {
     "data": {
      "text/plain": [
       "True"
      ]
     },
     "execution_count": 132,
     "metadata": {},
     "output_type": "execute_result"
    }
   ],
   "source": [
    "print(D)\n",
    "\"phone\" in D"
   ]
  },
  {
   "cell_type": "code",
   "execution_count": 131,
   "metadata": {
    "id": "rnlSH8PIO5bX"
   },
   "outputs": [
    {
     "data": {
      "text/plain": [
       "True"
      ]
     },
     "execution_count": 131,
     "metadata": {},
     "output_type": "execute_result"
    }
   ],
   "source": [
    "\"1234\" in D.values()"
   ]
  },
  {
   "cell_type": "code",
   "execution_count": 139,
   "metadata": {
    "id": "AFXTWwHCO5bX"
   },
   "outputs": [
    {
     "data": {
      "text/plain": [
       "True"
      ]
     },
     "execution_count": 139,
     "metadata": {},
     "output_type": "execute_result"
    }
   ],
   "source": [
    "# 리스트, 튜플, 집합, 문자열에서도 테스트\n",
    "L = [1, 2, 3, 4]\n",
    "t = (5, 6, 7, 8)\n",
    "s = {'a', 2, 3.14}\n",
    "st = \"Hello\"\n",
    "\n",
    "3 in L\n",
    "0 in t\n",
    "'a' in s\n",
    "'ell' in st # substring matching"
   ]
  },
  {
   "cell_type": "code",
   "execution_count": null,
   "metadata": {},
   "outputs": [],
   "source": []
  }
 ],
 "metadata": {
  "colab": {
   "collapsed_sections": [],
   "name": "Chapter.01 파이썬 프로그래밍-04. Data Type (실습).ipynb",
   "provenance": []
  },
  "kernelspec": {
   "display_name": "Python 3 (ipykernel)",
   "language": "python",
   "name": "python3"
  },
  "language_info": {
   "codemirror_mode": {
    "name": "ipython",
    "version": 3
   },
   "file_extension": ".py",
   "mimetype": "text/x-python",
   "name": "python",
   "nbconvert_exporter": "python",
   "pygments_lexer": "ipython3",
   "version": "3.9.6"
  }
 },
 "nbformat": 4,
 "nbformat_minor": 1
}
