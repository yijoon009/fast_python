{
 "cells": [
  {
   "cell_type": "markdown",
   "metadata": {
    "id": "gkrOA3DckInF"
   },
   "source": [
    "## Iteration(while, For)"
   ]
  },
  {
   "cell_type": "markdown",
   "metadata": {
    "id": "mtXkUXvIkInJ"
   },
   "source": [
    "### 1. `while` statement"
   ]
  },
  {
   "cell_type": "markdown",
   "metadata": {
    "id": "ls3vASjdkInK"
   },
   "source": [
    "- while문은 **조건을 만족할 때 까지 반복**한다.\n",
    "\n",
    "\n",
    "- while (조건):\n",
    "       <statement1>\n",
    "       <statement2>\n",
    "       <statement3>\n",
    "           \n",
    "- 조건이 만족하는 동안(while) statement1, 2, 3을 반복한다."
   ]
  },
  {
   "cell_type": "markdown",
   "metadata": {
    "id": "TIWjnK1VkInK"
   },
   "source": [
    "#### 구구단을 통해 연습해봅시다!"
   ]
  },
  {
   "cell_type": "code",
   "execution_count": 4,
   "metadata": {
    "id": "vI78_M1ekInK"
   },
   "outputs": [
    {
     "name": "stdout",
     "output_type": "stream",
     "text": [
      "2 X 1 = 2\n",
      "2 X 2 = 4\n",
      "2 X 3 = 6\n",
      "2 X 4 = 8\n",
      "2 X 5 = 10\n",
      "2 X 6 = 12\n",
      "2 X 7 = 14\n",
      "2 X 8 = 16\n",
      "2 X 9 = 18\n"
     ]
    }
   ],
   "source": [
    "# 2단을 while문으로 구현해봅시다.\n",
    "\n",
    "num = 0\n",
    "\n",
    "while num < 9:\n",
    "    num += 1\n",
    "    print('2 X %d = %d' % (num, 2*num))\n",
    "    "
   ]
  },
  {
   "cell_type": "markdown",
   "metadata": {
    "id": "cW2Gd6X6kInL"
   },
   "source": [
    "#### 실제 자판기 기계는 돈을 한번 넣고 종료되지 않는다. 자판기 기계(프로그램)이 종료되는 경우는 커피가 다 떨어졌을 때이다.\n",
    "\n",
    "> Q. 커피가 다 질때까지 자판기 프로그램을 반복하면서 실행한 뒤, 돈을 입력받아서 커피를 주는 프로그램을 작성해보자."
   ]
  },
  {
   "cell_type": "code",
   "execution_count": 6,
   "metadata": {
    "id": "zqLVUh-JkInM"
   },
   "outputs": [
    {
     "name": "stdout",
     "output_type": "stream",
     "text": [
      "input money: 200\n",
      "not enough money\n",
      "input money: 300\n",
      "coffee\n",
      "input money: 500\n",
      "coffee\n",
      "거스름돈: 200\n",
      "input money: 500\n",
      "coffee\n",
      "거스름돈: 200\n",
      "input money: 1000\n",
      "coffee\n",
      "거스름돈: 700\n",
      "input money: 200\n",
      "not enough money\n",
      "input money: 300\n",
      "coffee\n",
      "커피가 모두 소진되었으니, 관리자에게 문의해주세요.\n"
     ]
    }
   ],
   "source": [
    "# 자판기의 커피 수량\n",
    "coffee = 5\n",
    "\n",
    "# 커피가 남아있는 동안 작동!\n",
    "while coffee > 0:\n",
    "\n",
    "    # 실제로는 자판기를 통해서 넣은 금액.\n",
    "    # 700\n",
    "    money = int(input(\"금액을 입력해주세요 : \"))\n",
    "    print(f'input money: {money}')\n",
    "    \n",
    "    if money == 300:\n",
    "        coffee -= 1\n",
    "        print('coffee')\n",
    "\n",
    "    elif money < 300:\n",
    "        print('not enough money')\n",
    "     \n",
    "    else: # or elif money > 300:\n",
    "        coffee -= 1\n",
    "        print('coffee')\n",
    "        print(f'거스름돈: {money - 300}')\n",
    "    \n",
    "        \n",
    "    # 커피가 다 떨어진 경우 알려야한다.\n",
    "print(\"커피가 모두 소진되었으니, 관리자에게 문의해주세요.\")"
   ]
  },
  {
   "cell_type": "markdown",
   "metadata": {
    "id": "iZgZ2ODQkInN"
   },
   "source": [
    "### 2. `for` statement"
   ]
  },
  {
   "cell_type": "markdown",
   "metadata": {
    "id": "KDtdz3TSkInN"
   },
   "source": [
    "- while문은 조건이 만족하는 동안 반복을 수행했지만, for문은 지정 횟수동안 반복을 수행한다.\n",
    "> 여기서 지정된 횟수라는 것은 반복 대상의 크기가 된다.\n",
    "\n",
    "\n",
    "- 보통 iteratable object(반복 가능한 객체)를 대상으로 수행되며, 연속형 데이터 타입 변수들이 여기에 해당된다.\n",
    "> List, Tuple, string, ...\n",
    "\n",
    "\n",
    "- for 변수 in 리스트(튜플, 문자열, iterator):\n",
    "      <statement1>\n",
    "      <statement2>\n",
    "      <statement3>\n",
    "          \n",
    "- 리스트(나 반복가능한 변수들)의 모든 원소를 (자동으로 끝까지) 반복한다."
   ]
  },
  {
   "cell_type": "code",
   "execution_count": 8,
   "metadata": {
    "id": "nfCa2WREkInN"
   },
   "outputs": [
    {
     "name": "stdout",
     "output_type": "stream",
     "text": [
      "1\n",
      "2\n",
      "3\n",
      "4\n",
      "-1\n"
     ]
    }
   ],
   "source": [
    "# 리스트의 원소를 하나하나 출력하는 반복문을 만든다.\n",
    "L = [1, 2, 3, 4, -1, 'str', (1, 45)]\n",
    "\n",
    "# for i in L:\n",
    "for i in L[:-2]:\n",
    "    print(i)"
   ]
  },
  {
   "cell_type": "markdown",
   "metadata": {
    "id": "5nqRCpEXkInO"
   },
   "source": [
    "#### 6개의 커피 음료가 담긴 리스트가 있다. 카페에 있는 모든 음료를 출력해보자!"
   ]
  },
  {
   "cell_type": "code",
   "execution_count": 10,
   "metadata": {
    "id": "iSuqlRBwkInO"
   },
   "outputs": [
    {
     "name": "stdout",
     "output_type": "stream",
     "text": [
      "아메리카노\n",
      "카페라떼\n",
      "카페모카\n",
      "바닐라라떼\n",
      "핸드드립\n",
      "콜드브루\n"
     ]
    }
   ],
   "source": [
    "coffees = ['아메리카노', '카페라떼', '카페모카', '바닐라라떼', '핸드드립', '콜드브루']\n",
    "\n",
    "# for coffee in coffees:\n",
    "#     print(coffee)\n",
    "for _temp in coffees:\n",
    "    print(_temp)"
   ]
  },
  {
   "cell_type": "markdown",
   "metadata": {
    "id": "mouwfUf0kInO"
   },
   "source": [
    "#### for문의 단짝 range() 함수"
   ]
  },
  {
   "cell_type": "markdown",
   "metadata": {
    "id": "lm_EMsqJkInO"
   },
   "source": [
    "- for문은 특정 횟수동안 반복을 하기 때문에, 횟수를 자동으로 만들어주는 기능이 있으면 좋다.\n",
    "\n",
    "- 파이썬에서 기본적으로 제공하는 range 함수는 특정 숫자 범위내의 값들을 자동으로 생성해주는 함수이다.\n",
    "\n",
    "\n",
    "e.g. range(1, 5)는 1, 2, 3, 4를 차례대로 생성해준다. (5는 범위에서 제외된다. 즉, 마지막 숫자는 제외된다. 1 <= x < 5)"
   ]
  },
  {
   "cell_type": "code",
   "execution_count": 19,
   "metadata": {
    "id": "buAK4mW-kInP"
   },
   "outputs": [
    {
     "name": "stdout",
     "output_type": "stream",
     "text": [
      "0\n",
      "1\n",
      "2\n",
      "3\n",
      "4\n",
      "\n",
      "2\n",
      "3\n",
      "4\n",
      "5\n",
      "6\n",
      "7\n",
      "8\n",
      "9\n"
     ]
    }
   ],
   "source": [
    "# range 함수를 이용해 1부터 4까지 출력하는 프로그램을 작성해보자. for문을 이용해서!\n",
    "\n",
    "# range(stop): 0 부터 stop - 1 까지\n",
    "# e.g. range(5) -> 0, 1, 2, 3, 4\n",
    "\n",
    "# range(start, stop): start 부터 stop - 1 까지\n",
    "\n",
    "\n",
    "# range(start, stop, step): start, start + step, start + step + step, ... <= stop-1\n",
    "# e.g. ragne(10, 2, -1): step이 음수면 반대로 출력\n",
    "# print(range(10,2,-1)) -> 10, 9, 8, 7, 6, 5, 4, 3\n",
    "\n",
    "\n",
    "# for i in range(10,2,-1):\n",
    "#     print(i)\n",
    "\n",
    "# index를 사용하고 싶을때\n",
    "for i in range(5):\n",
    "    print(i)\n",
    "print()\n",
    "#  특정 숫자 자체를 사용할 때,\n",
    "for i in range(2, 10):\n",
    "    print(i)"
   ]
  },
  {
   "cell_type": "markdown",
   "metadata": {
    "id": "FM9yUoBykInP"
   },
   "source": [
    "#### 6개의 커피 음료와 음료의 가격이 담긴 리스트가 있다. 가지고 있는 돈이 5,000원일 때 먹을 수 있는 모든 음료를 찾아보자!"
   ]
  },
  {
   "cell_type": "code",
   "execution_count": 27,
   "metadata": {
    "id": "rgPKn43YkInP"
   },
   "outputs": [
    {
     "name": "stdout",
     "output_type": "stream",
     "text": [
      "아메리카노\n",
      "카페라떼\n",
      "카페모카\n",
      "콜드브루\n"
     ]
    }
   ],
   "source": [
    "coffees = ['아메리카노', '카페라떼', '카페모카', '바닐라라떼', '핸드드립', '콜드브루']\n",
    "prices = [4100, 4600, 4600, 5100, 6000, 5000]\n",
    "\n",
    "# 1. indexing을 활용한 방법.\n",
    "# for i in range(len(coffees)):\n",
    "#     if prices[i] <= 5000:\n",
    "#         print(coffees[i])\n",
    "\n",
    "# 2. enumerate 함수를 활용한 방법.\n",
    "# enumarate: 열거하다 = 인덱스가 생긴다.\n",
    "# for idx, price in enumerate(prices):\n",
    "#     if price <= 5000:\n",
    "#         print(coffees[idx])\n",
    "\n",
    "# 3. zip 함수를 활용한 방법.\n",
    "for coffee, price in zip(coffees, prices):\n",
    "    if price <= 5000:\n",
    "        print(coffee)\n"
   ]
  },
  {
   "cell_type": "markdown",
   "metadata": {
    "id": "o-lUiJGSkInP"
   },
   "source": [
    "#### RE : 6개의 커피 음료와 음료의 가격이 담긴 리스트가 있다. 오늘은 할인 행사를 하여 모든 음료가 500원 할인 되었다!\n",
    "\n",
    "#### 가지고 있는 돈이 5,000원일 때 먹을 수 있는 모든 음료를 찾아보자!"
   ]
  },
  {
   "cell_type": "code",
   "execution_count": 34,
   "metadata": {
    "id": "eULxqazskInQ"
   },
   "outputs": [
    {
     "name": "stdout",
     "output_type": "stream",
     "text": [
      "아메리카노\n",
      "카페라떼\n",
      "카페모카\n",
      "바닐라라떼\n",
      "콜드브루\n"
     ]
    }
   ],
   "source": [
    "coffees = ['아메리카노', '카페라떼', '카페모카', '바닐라라떼', '핸드드립', '콜드브루']\n",
    "prices = [4100, 4600, 4600, 5100, 6000, 5000]\n",
    "\n",
    "# 1. 진짜 prices 변경하기\n",
    "for i in range(len(prices)):\n",
    "    prices[i] -= 500\n",
    "\n",
    "for coffee, price in zip(coffees, prices):\n",
    "    if price <= 5000:\n",
    "        print(coffee)\n",
    "\n",
    "# 2. 결제할때 할인된 가격인척 하기\n",
    "# for coffee, price in zip(coffees, prices):\n",
    "#     price -= 500\n",
    "#     if price <= 5000:\n",
    "        # print(coffee)"
   ]
  },
  {
   "cell_type": "markdown",
   "metadata": {
    "id": "LRxrNS8GkInR"
   },
   "source": [
    "#### 전설의 구구단 구현. nested loop를 연습해보자!"
   ]
  },
  {
   "cell_type": "code",
   "execution_count": 37,
   "metadata": {
    "id": "1Hw2C_kGkInR"
   },
   "outputs": [
    {
     "name": "stdout",
     "output_type": "stream",
     "text": [
      "-- 1단 --\n",
      "1 * 1 = 1\n",
      "1 * 2 = 2\n",
      "1 * 3 = 3\n",
      "1 * 4 = 4\n",
      "1 * 5 = 5\n",
      "1 * 6 = 6\n",
      "1 * 7 = 7\n",
      "1 * 8 = 8\n",
      "1 * 9 = 9\n",
      "-- 2단 --\n",
      "2 * 1 = 2\n",
      "2 * 2 = 4\n",
      "2 * 3 = 6\n",
      "2 * 4 = 8\n",
      "2 * 5 = 10\n",
      "2 * 6 = 12\n",
      "2 * 7 = 14\n",
      "2 * 8 = 16\n",
      "2 * 9 = 18\n",
      "-- 3단 --\n",
      "3 * 1 = 3\n",
      "3 * 2 = 6\n",
      "3 * 3 = 9\n",
      "3 * 4 = 12\n",
      "3 * 5 = 15\n",
      "3 * 6 = 18\n",
      "3 * 7 = 21\n",
      "3 * 8 = 24\n",
      "3 * 9 = 27\n",
      "-- 4단 --\n",
      "4 * 1 = 4\n",
      "4 * 2 = 8\n",
      "4 * 3 = 12\n",
      "4 * 4 = 16\n",
      "4 * 5 = 20\n",
      "4 * 6 = 24\n",
      "4 * 7 = 28\n",
      "4 * 8 = 32\n",
      "4 * 9 = 36\n",
      "-- 5단 --\n",
      "5 * 1 = 5\n",
      "5 * 2 = 10\n",
      "5 * 3 = 15\n",
      "5 * 4 = 20\n",
      "5 * 5 = 25\n",
      "5 * 6 = 30\n",
      "5 * 7 = 35\n",
      "5 * 8 = 40\n",
      "5 * 9 = 45\n",
      "-- 6단 --\n",
      "6 * 1 = 6\n",
      "6 * 2 = 12\n",
      "6 * 3 = 18\n",
      "6 * 4 = 24\n",
      "6 * 5 = 30\n",
      "6 * 6 = 36\n",
      "6 * 7 = 42\n",
      "6 * 8 = 48\n",
      "6 * 9 = 54\n",
      "-- 7단 --\n",
      "7 * 1 = 7\n",
      "7 * 2 = 14\n",
      "7 * 3 = 21\n",
      "7 * 4 = 28\n",
      "7 * 5 = 35\n",
      "7 * 6 = 42\n",
      "7 * 7 = 49\n",
      "7 * 8 = 56\n",
      "7 * 9 = 63\n",
      "-- 8단 --\n",
      "8 * 1 = 8\n",
      "8 * 2 = 16\n",
      "8 * 3 = 24\n",
      "8 * 4 = 32\n",
      "8 * 5 = 40\n",
      "8 * 6 = 48\n",
      "8 * 7 = 56\n",
      "8 * 8 = 64\n",
      "8 * 9 = 72\n",
      "-- 9단 --\n",
      "9 * 1 = 9\n",
      "9 * 2 = 18\n",
      "9 * 3 = 27\n",
      "9 * 4 = 36\n",
      "9 * 5 = 45\n",
      "9 * 6 = 54\n",
      "9 * 7 = 63\n",
      "9 * 8 = 72\n",
      "9 * 9 = 81\n"
     ]
    }
   ],
   "source": [
    "# nested loop를 이용하여 구구단을 구현합시다. \n",
    "\n",
    "# todo: 단이 출력 될때마다 '-- @단 --' 출력하기\n",
    "for i in range(1, 10):\n",
    "    print(f'-- {i}단 --')\n",
    "    for j in range(1, 10):\n",
    "        print(f'{i} * {j} = {(i)*(j)}') "
   ]
  },
  {
   "cell_type": "markdown",
   "metadata": {},
   "source": [
    "#### 조건을 만족하는 원소를 가지는 리스트를 생성하는, List Comprehension"
   ]
  },
  {
   "cell_type": "code",
   "execution_count": 39,
   "metadata": {},
   "outputs": [
    {
     "data": {
      "text/plain": [
       "[1, 2, 3, 4, 5, 6, 7, 8, 9, 10]"
      ]
     },
     "execution_count": 39,
     "metadata": {},
     "output_type": "execute_result"
    }
   ],
   "source": [
    "# 1부터 10까지의 원소를 가지는 리스트\n",
    "# L = []\n",
    "# for i in range(1, 11):\n",
    "#     L.append(i)\n",
    "# print(L)\n",
    "\n",
    "# List Comprehension: 원소가 특정 표현으로 나타내어질 때, 해당 원소를 가지는 리스트를 만들기 편한 방식.\n",
    "# 원소가 i이고, 그 i는 range(1,11)에 있는 i\n",
    "[i for i in range(1, 11)]\n",
    "\n",
    "\n",
    "\n"
   ]
  },
  {
   "cell_type": "code",
   "execution_count": 44,
   "metadata": {},
   "outputs": [
    {
     "data": {
      "text/plain": [
       "['hello', 'xbcd', 'xxbbe', 'xpple', 'cxt']"
      ]
     },
     "execution_count": 44,
     "metadata": {},
     "output_type": "execute_result"
    }
   ],
   "source": [
    "## ss의 각 원소를 모두 소문자로 바꾸고, a를 x로 변환하는 코드를 작성해주세요.\n",
    "ss = ['Hello', 'abcd', 'AAbbe', 'Apple', 'cat']\n",
    "\n",
    "[s.lower().replace('a', 'x') for s in ss]"
   ]
  },
  {
   "cell_type": "code",
   "execution_count": null,
   "metadata": {},
   "outputs": [],
   "source": []
  }
 ],
 "metadata": {
  "colab": {
   "collapsed_sections": [],
   "name": "Chapter.01 파이썬 프로그래밍-08. for, while (실습).ipynb",
   "provenance": []
  },
  "kernelspec": {
   "display_name": "Python 3 (ipykernel)",
   "language": "python",
   "name": "python3"
  },
  "language_info": {
   "codemirror_mode": {
    "name": "ipython",
    "version": 3
   },
   "file_extension": ".py",
   "mimetype": "text/x-python",
   "name": "python",
   "nbconvert_exporter": "python",
   "pygments_lexer": "ipython3",
   "version": "3.9.6"
  }
 },
 "nbformat": 4,
 "nbformat_minor": 1
}
