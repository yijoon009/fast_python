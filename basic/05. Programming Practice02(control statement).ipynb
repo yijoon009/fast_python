{
 "cells": [
  {
   "cell_type": "markdown",
   "metadata": {},
   "source": [
    "## 문제 1: 비밀번호 강도 체크\n",
    "사용자로부터 비밀번호를 입력받아, 그 비밀번호가 강한지 약한지를 평가하는 프로그램을 작성하세요. 강한 비밀번호의 조건은 다음과 같습니다.\n",
    "\n",
    "> 조건1. 8자리 이상\n",
    "\n",
    "> 조건2. 숫자와 영문자를 반드시 포함해야 함. (대소문자는 상관 X)\n",
    "\n",
    "위의 조건을 만족하지 않을시, 약한 비밀번호로 지정합니다.\n",
    "\n",
    "\n",
    "[HINT] str.isalpha(), str.isdigit(), str.isalnum()을 사용합니다."
   ]
  },
  {
   "cell_type": "code",
   "execution_count": 15,
   "metadata": {},
   "outputs": [
    {
     "name": "stdout",
     "output_type": "stream",
     "text": [
      "강함\n"
     ]
    }
   ],
   "source": [
    "# isalnum()은 모든 글자가 숫자 or 영문자로 되어있는 경우에 True.\n",
    "# python 한정 반복문이 느리다.\n",
    "\n",
    "password = \"a1b2c3d4\"\n",
    "if (len(password) >= 8) and password.isalnum():\n",
    "    if password.isalpha(): # 전부 다 문자열인 경우\n",
    "        print(f\"{password} is weak.\")\n",
    "    elif password.isdigit(): # 전부 다 문자열인 경우\n",
    "        print(f\"{password} is weak.\")\n",
    "    else:\n",
    "        print(f\"{password} is strong.\")\n",
    "else:\n",
    "    print(f\"{password} is weak.\")\n",
    "\n",
    "# password  = input()\n",
    "\n",
    "# if len(password) >= 8:\n",
    "#     has_alpha = False\n",
    "#     has_num = False\n",
    "\n",
    "#     for word in password:\n",
    "#         if word.isalpha():\n",
    "#             has_alpha = True\n",
    "#         elif word.isdigit():\n",
    "#             has_num = True\n",
    "\n",
    "#     if has_num and has_alpha:\n",
    "#         print('강함')\n",
    "#     else:\n",
    "#         print('약함')\n",
    "    \n",
    "# else:\n",
    "#     print('약함')\n",
    "\n",
    "\n"
   ]
  },
  {
   "cell_type": "markdown",
   "metadata": {},
   "source": [
    "## 문제 2. 별 찍기!\n",
    "\n",
    "* 하늘의 아름다운 별을 따다 코드로 작성해보자.\n",
    "\n",
    "> 이해하고 싶으신 분들은 별 찍기의 출력을 반대로 해보세요!"
   ]
  },
  {
   "cell_type": "code",
   "execution_count": null,
   "metadata": {},
   "outputs": [],
   "source": [
    "# number = 5\n",
    "*****\n",
    "****\n",
    "***\n",
    "**\n",
    "*"
   ]
  },
  {
   "cell_type": "code",
   "execution_count": 41,
   "metadata": {},
   "outputs": [
    {
     "name": "stdout",
     "output_type": "stream",
     "text": [
      "*****\n",
      "****\n",
      "***\n",
      "**\n",
      "*\n",
      "*****\n",
      "****\n",
      "***\n",
      "**\n",
      "*\n"
     ]
    }
   ],
   "source": [
    "number = int(input(\"Input the number of lines : \"))\n",
    "\n",
    "for line in range(number):\n",
    "    for i in range(number - line):\n",
    "        print('*', end='')\n",
    "    print()\n",
    "\n",
    "\n",
    "for i in range(number, 0, -1):\n",
    "    print('*'*i)"
   ]
  },
  {
   "cell_type": "markdown",
   "metadata": {},
   "source": [
    "## 문제 3. 단어 갯수 구하기\n",
    "\n",
    "* 다음과 같은 영어 문서 하나가 있다.\n",
    "* 다음 문서에 등장하는 단어마다 등장 횟수를 세어보자!"
   ]
  },
  {
   "cell_type": "code",
   "execution_count": 46,
   "metadata": {},
   "outputs": [],
   "source": [
    "#아래 문자열은 하나의 문서를 의미합니다.\n",
    "pep8 = \"\"\"This document gives coding conventions for the Python code comprising the standard library in the main Python distribution. Please see the companion informational PEP describing style guidelines for the C code in the C implementation of Python.\n",
    "This document and PEP 257 (Docstring Conventions) were adapted from Guido’s original Python Style Guide essay, with some additions from Barry’s style guide [2].\n",
    "This style guide evolves over time as additional conventions are identified and past conventions are rendered obsolete by changes in the language itself.\n",
    "Many projects have their own coding style guidelines. In the event of any conflicts, such project-specific guides take precedence for that project.\n",
    "\"\"\""
   ]
  },
  {
   "cell_type": "code",
   "execution_count": 51,
   "metadata": {},
   "outputs": [
    {
     "name": "stdout",
     "output_type": "stream",
     "text": [
      "(Docstring: 1\n",
      "257: 1\n",
      "Barry’s: 1\n",
      "C: 2\n",
      "Conventions): 1\n",
      "Guide: 1\n",
      "Guido’s: 1\n",
      "In: 1\n",
      "Many: 1\n",
      "PEP: 2\n",
      "Please: 1\n",
      "Python: 3\n",
      "Python.: 1\n",
      "Style: 1\n",
      "This: 3\n",
      "[2].: 1\n",
      "adapted: 1\n",
      "additional: 1\n",
      "additions: 1\n",
      "and: 2\n",
      "any: 1\n",
      "are: 2\n",
      "as: 1\n",
      "by: 1\n",
      "changes: 1\n",
      "code: 2\n",
      "coding: 2\n",
      "companion: 1\n",
      "comprising: 1\n",
      "conflicts,: 1\n",
      "conventions: 3\n",
      "describing: 1\n",
      "distribution.: 1\n",
      "document: 2\n",
      "essay,: 1\n",
      "event: 1\n",
      "evolves: 1\n",
      "for: 3\n",
      "from: 2\n",
      "gives: 1\n",
      "guide: 2\n",
      "guidelines: 1\n",
      "guidelines.: 1\n",
      "guides: 1\n",
      "have: 1\n",
      "identified: 1\n",
      "implementation: 1\n",
      "in: 3\n",
      "informational: 1\n",
      "itself.: 1\n",
      "language: 1\n",
      "library: 1\n",
      "main: 1\n",
      "obsolete: 1\n",
      "of: 2\n",
      "original: 1\n",
      "over: 1\n",
      "own: 1\n",
      "past: 1\n",
      "precedence: 1\n",
      "project-specific: 1\n",
      "project.: 1\n",
      "projects: 1\n",
      "rendered: 1\n",
      "see: 1\n",
      "some: 1\n",
      "standard: 1\n",
      "style: 4\n",
      "such: 1\n",
      "take: 1\n",
      "that: 1\n",
      "the: 8\n",
      "their: 1\n",
      "time: 1\n",
      "were: 1\n",
      "with: 1\n"
     ]
    }
   ],
   "source": [
    "# word_Dict는 문서 하나당 단어와 단어 갯수가 저장되는 사전입니다. 하나만 사용하셔도 되고, 여러개를 사용하셔도 됩니다.\n",
    "\n",
    "# HINT:\n",
    "## 1. pep8.split() + for statement\n",
    "## 2. Dictionary\n",
    "\n",
    "# pep8 = pep8.replace('(', '')\n",
    "# pep8 = pep8.replace(')', '')\n",
    "# pep8 = pep8.replace('-', '')\n",
    "# pep8 = pep8.replace('[', '')\n",
    "# pep8 = pep8.replace(']', '')\n",
    "# pep8 = pep8.replace('.', '')\n",
    "# pep8 = pep8.replace('\\'', '')\n",
    "\n",
    "\n",
    "\n",
    "# word_list = [w for w in pep8.split()]\n",
    "# count_list = {}\n",
    "# for i in range(len(word_list)):\n",
    "#     word_list[i] = word_list[i].lower()\n",
    "    \n",
    "#     if word_list[i] not in count_list.keys():\n",
    "#         count_list[word_list[i]] = 1\n",
    "#     else:\n",
    "#         count_list[word_list[i]] += 1\n",
    "\n",
    "# print(count_list)\n",
    "\n",
    "# 1) list로 구현\n",
    "word_list = pep8.split()\n",
    "# word_set = set(word_list)    # 단어 종류\n",
    "# for word in sorted(word_set):\n",
    "#     print(f'{word}: {word_list.count(word)}')\n",
    "\n",
    "# # 2) Dict로 구현\n",
    "# word_dict = {}  # key : value = word : count\n",
    "# for word in word_list:\n",
    "#     if word in word_dict:\n",
    "#         word_dict[word] += 1\n",
    "#     else:\n",
    "#         word_dict[word] = 1\n",
    "\n",
    "# for word in sorted(word_dict.keys()):\n",
    "#     print(f'{word}: {word_dict[word]}')\n",
    "\n",
    "\n",
    "# 3) Counter로 구현\n",
    "from collections import Counter\n",
    "\n",
    "word_dict2 = Counter(word_list)\n",
    "for word in sorted(word_dict2.keys()):\n",
    "    print(f'{word}: {word_dict2[word]}')\n",
    "\n",
    "\n"
   ]
  },
  {
   "cell_type": "code",
   "execution_count": null,
   "metadata": {},
   "outputs": [],
   "source": []
  }
 ],
 "metadata": {
  "kernelspec": {
   "display_name": "Python 3 (ipykernel)",
   "language": "python",
   "name": "python3"
  },
  "language_info": {
   "codemirror_mode": {
    "name": "ipython",
    "version": 3
   },
   "file_extension": ".py",
   "mimetype": "text/x-python",
   "name": "python",
   "nbconvert_exporter": "python",
   "pygments_lexer": "ipython3",
   "version": "3.9.6"
  }
 },
 "nbformat": 4,
 "nbformat_minor": 2
}
